{
 "cells": [
  {
   "attachments": {},
   "cell_type": "markdown",
   "metadata": {},
   "source": [
    "# <span style=\"color:darkblue\"> Lecture 20 - Time Data </span>\n",
    "\n",
    "<font size = \"5\">\n",
    "\n",
    "In  the last lecture we ...\n",
    "- Completed the module on SQL\n",
    "- Learned about escape characters\n",
    "\n",
    "\n",
    "In  this lecture we will ...\n",
    "\n",
    "- Process time data in Python\n",
    "- Learn about wildcards"
   ]
  },
  {
   "attachments": {},
   "cell_type": "markdown",
   "metadata": {},
   "source": [
    "# <span style=\"color:darkblue\"> I. Import Libraries and Data </span>"
   ]
  },
  {
   "cell_type": "markdown",
   "metadata": {},
   "source": [
    "<font size = \"5\">\n",
    "\n",
    "Import libraries"
   ]
  },
  {
   "cell_type": "code",
   "execution_count": 1,
   "metadata": {},
   "outputs": [],
   "source": [
    "# \"pandas\" processes datasets\n",
    "# \"maplotlib.pyplot\" generates graphs\n",
    "# \"maplotlib.dates\" has advanced options for plotting dates\n",
    "# \"datetime\" handles date information\n",
    "\n",
    "import pandas as pd\n",
    "import matplotlib.pyplot as plt\n",
    "import matplotlib.dates as mdates\n",
    "from datetime import date, time, datetime"
   ]
  },
  {
   "attachments": {},
   "cell_type": "markdown",
   "metadata": {},
   "source": [
    "<font size = \"5\">\n",
    "\n",
    "Import data"
   ]
  },
  {
   "cell_type": "code",
   "execution_count": 2,
   "metadata": {},
   "outputs": [],
   "source": [
    "financial = pd.read_csv(\"data_raw/financial.csv\")"
   ]
  },
  {
   "cell_type": "code",
   "execution_count": 4,
   "metadata": {},
   "outputs": [
    {
     "data": {
      "text/html": [
       "<div>\n",
       "<style scoped>\n",
       "    .dataframe tbody tr th:only-of-type {\n",
       "        vertical-align: middle;\n",
       "    }\n",
       "\n",
       "    .dataframe tbody tr th {\n",
       "        vertical-align: top;\n",
       "    }\n",
       "\n",
       "    .dataframe thead th {\n",
       "        text-align: right;\n",
       "    }\n",
       "</style>\n",
       "<table border=\"1\" class=\"dataframe\">\n",
       "  <thead>\n",
       "    <tr style=\"text-align: right;\">\n",
       "      <th></th>\n",
       "      <th>date_str</th>\n",
       "      <th>sp500</th>\n",
       "      <th>djia</th>\n",
       "      <th>date_ex1</th>\n",
       "      <th>date_ex2</th>\n",
       "      <th>date_ex3</th>\n",
       "      <th>date</th>\n",
       "    </tr>\n",
       "  </thead>\n",
       "  <tbody>\n",
       "    <tr>\n",
       "      <th>0</th>\n",
       "      <td>4/4/2018</td>\n",
       "      <td>2644.69</td>\n",
       "      <td>24264.30</td>\n",
       "      <td>April 04 2018</td>\n",
       "      <td>Wednesday, 2018-04-04</td>\n",
       "      <td>4-Apr-18</td>\n",
       "      <td>2018-04-04</td>\n",
       "    </tr>\n",
       "    <tr>\n",
       "      <th>1</th>\n",
       "      <td>4/5/2018</td>\n",
       "      <td>2662.84</td>\n",
       "      <td>24505.22</td>\n",
       "      <td>April 05 2018</td>\n",
       "      <td>Thursday, 2018-04-05</td>\n",
       "      <td>5-Apr-18</td>\n",
       "      <td>2018-04-05</td>\n",
       "    </tr>\n",
       "    <tr>\n",
       "      <th>2</th>\n",
       "      <td>4/6/2018</td>\n",
       "      <td>2604.47</td>\n",
       "      <td>23932.76</td>\n",
       "      <td>April 06 2018</td>\n",
       "      <td>Friday, 2018-04-06</td>\n",
       "      <td>6-Apr-18</td>\n",
       "      <td>2018-04-06</td>\n",
       "    </tr>\n",
       "    <tr>\n",
       "      <th>3</th>\n",
       "      <td>4/9/2018</td>\n",
       "      <td>2613.16</td>\n",
       "      <td>23979.10</td>\n",
       "      <td>April 09 2018</td>\n",
       "      <td>Monday, 2018-04-09</td>\n",
       "      <td>9-Apr-18</td>\n",
       "      <td>2018-04-09</td>\n",
       "    </tr>\n",
       "    <tr>\n",
       "      <th>4</th>\n",
       "      <td>4/10/2018</td>\n",
       "      <td>2656.87</td>\n",
       "      <td>24408.00</td>\n",
       "      <td>April 10 2018</td>\n",
       "      <td>Tuesday, 2018-04-10</td>\n",
       "      <td>10-Apr-18</td>\n",
       "      <td>2018-04-10</td>\n",
       "    </tr>\n",
       "    <tr>\n",
       "      <th>...</th>\n",
       "      <td>...</td>\n",
       "      <td>...</td>\n",
       "      <td>...</td>\n",
       "      <td>...</td>\n",
       "      <td>...</td>\n",
       "      <td>...</td>\n",
       "      <td>...</td>\n",
       "    </tr>\n",
       "    <tr>\n",
       "      <th>1300</th>\n",
       "      <td>3/29/2023</td>\n",
       "      <td>4027.81</td>\n",
       "      <td>32717.60</td>\n",
       "      <td>March 29 2023</td>\n",
       "      <td>Wednesday, 2023-03-29</td>\n",
       "      <td>29-Mar-23</td>\n",
       "      <td>2023-03-29</td>\n",
       "    </tr>\n",
       "    <tr>\n",
       "      <th>1301</th>\n",
       "      <td>3/30/2023</td>\n",
       "      <td>4050.83</td>\n",
       "      <td>32859.03</td>\n",
       "      <td>March 30 2023</td>\n",
       "      <td>Thursday, 2023-03-30</td>\n",
       "      <td>30-Mar-23</td>\n",
       "      <td>2023-03-30</td>\n",
       "    </tr>\n",
       "    <tr>\n",
       "      <th>1302</th>\n",
       "      <td>3/31/2023</td>\n",
       "      <td>4109.31</td>\n",
       "      <td>33274.15</td>\n",
       "      <td>March 31 2023</td>\n",
       "      <td>Friday, 2023-03-31</td>\n",
       "      <td>31-Mar-23</td>\n",
       "      <td>2023-03-31</td>\n",
       "    </tr>\n",
       "    <tr>\n",
       "      <th>1303</th>\n",
       "      <td>4/3/2023</td>\n",
       "      <td>4124.51</td>\n",
       "      <td>33601.15</td>\n",
       "      <td>April 03 2023</td>\n",
       "      <td>Monday, 2023-04-03</td>\n",
       "      <td>3-Apr-23</td>\n",
       "      <td>2023-04-03</td>\n",
       "    </tr>\n",
       "    <tr>\n",
       "      <th>1304</th>\n",
       "      <td>4/4/2023</td>\n",
       "      <td>4100.60</td>\n",
       "      <td>33402.38</td>\n",
       "      <td>April 04 2023</td>\n",
       "      <td>Tuesday, 2023-04-04</td>\n",
       "      <td>4-Apr-23</td>\n",
       "      <td>2023-04-04</td>\n",
       "    </tr>\n",
       "  </tbody>\n",
       "</table>\n",
       "<p>1305 rows × 7 columns</p>\n",
       "</div>"
      ],
      "text/plain": [
       "       date_str    sp500      djia       date_ex1               date_ex2  \\\n",
       "0      4/4/2018  2644.69  24264.30  April 04 2018  Wednesday, 2018-04-04   \n",
       "1      4/5/2018  2662.84  24505.22  April 05 2018   Thursday, 2018-04-05   \n",
       "2      4/6/2018  2604.47  23932.76  April 06 2018     Friday, 2018-04-06   \n",
       "3      4/9/2018  2613.16  23979.10  April 09 2018     Monday, 2018-04-09   \n",
       "4     4/10/2018  2656.87  24408.00  April 10 2018    Tuesday, 2018-04-10   \n",
       "...         ...      ...       ...            ...                    ...   \n",
       "1300  3/29/2023  4027.81  32717.60  March 29 2023  Wednesday, 2023-03-29   \n",
       "1301  3/30/2023  4050.83  32859.03  March 30 2023   Thursday, 2023-03-30   \n",
       "1302  3/31/2023  4109.31  33274.15  March 31 2023     Friday, 2023-03-31   \n",
       "1303   4/3/2023  4124.51  33601.15  April 03 2023     Monday, 2023-04-03   \n",
       "1304   4/4/2023  4100.60  33402.38  April 04 2023    Tuesday, 2023-04-04   \n",
       "\n",
       "       date_ex3       date  \n",
       "0      4-Apr-18 2018-04-04  \n",
       "1      5-Apr-18 2018-04-05  \n",
       "2      6-Apr-18 2018-04-06  \n",
       "3      9-Apr-18 2018-04-09  \n",
       "4     10-Apr-18 2018-04-10  \n",
       "...         ...        ...  \n",
       "1300  29-Mar-23 2023-03-29  \n",
       "1301  30-Mar-23 2023-03-30  \n",
       "1302  31-Mar-23 2023-03-31  \n",
       "1303   3-Apr-23 2023-04-03  \n",
       "1304   4-Apr-23 2023-04-04  \n",
       "\n",
       "[1305 rows x 7 columns]"
      ]
     },
     "execution_count": 4,
     "metadata": {},
     "output_type": "execute_result"
    }
   ],
   "source": [
    "financial"
   ]
  },
  {
   "attachments": {},
   "cell_type": "markdown",
   "metadata": {},
   "source": [
    "<font size = \"5\">\n",
    "\n",
    "\"Parse\" time columns"
   ]
  },
  {
   "cell_type": "code",
   "execution_count": 3,
   "metadata": {},
   "outputs": [],
   "source": [
    "# Convert string column to datetime format\n",
    "# If the date format is simple, you can also parse on input as\n",
    "# financial = pd.read_csv(\"data_raw/financial.csv\",parse_dates = [\"date\"]\n",
    "# See advanced options for parsing further in the lecture...\n",
    "\n",
    "financial[\"date\"] = pd.to_datetime(financial[\"date_str\"])"
   ]
  },
  {
   "cell_type": "code",
   "execution_count": 6,
   "metadata": {},
   "outputs": [
    {
     "data": {
      "text/plain": [
       "0        4/4/2018\n",
       "1        4/5/2018\n",
       "2        4/6/2018\n",
       "3        4/9/2018\n",
       "4       4/10/2018\n",
       "          ...    \n",
       "1300    3/29/2023\n",
       "1301    3/30/2023\n",
       "1302    3/31/2023\n",
       "1303     4/3/2023\n",
       "1304     4/4/2023\n",
       "Name: date_str, Length: 1305, dtype: object"
      ]
     },
     "execution_count": 6,
     "metadata": {},
     "output_type": "execute_result"
    }
   ],
   "source": [
    "financial[\"date_str\"]"
   ]
  },
  {
   "cell_type": "code",
   "execution_count": 7,
   "metadata": {},
   "outputs": [
    {
     "data": {
      "text/plain": [
       "str"
      ]
     },
     "execution_count": 7,
     "metadata": {},
     "output_type": "execute_result"
    }
   ],
   "source": [
    "type(financial['date_str'][0])"
   ]
  },
  {
   "cell_type": "code",
   "execution_count": 5,
   "metadata": {},
   "outputs": [
    {
     "data": {
      "text/plain": [
       "0      2018-04-04\n",
       "1      2018-04-05\n",
       "2      2018-04-06\n",
       "3      2018-04-09\n",
       "4      2018-04-10\n",
       "          ...    \n",
       "1300   2023-03-29\n",
       "1301   2023-03-30\n",
       "1302   2023-03-31\n",
       "1303   2023-04-03\n",
       "1304   2023-04-04\n",
       "Name: date, Length: 1305, dtype: datetime64[ns]"
      ]
     },
     "execution_count": 5,
     "metadata": {},
     "output_type": "execute_result"
    }
   ],
   "source": [
    "financial[\"date\"]"
   ]
  },
  {
   "cell_type": "code",
   "execution_count": 8,
   "metadata": {},
   "outputs": [
    {
     "data": {
      "text/plain": [
       "pandas._libs.tslibs.timestamps.Timestamp"
      ]
     },
     "execution_count": 8,
     "metadata": {},
     "output_type": "execute_result"
    }
   ],
   "source": [
    "type(financial[\"date\"][0])"
   ]
  },
  {
   "attachments": {},
   "cell_type": "markdown",
   "metadata": {},
   "source": [
    "<font size = \"5\">\n",
    "\n",
    "Check Types"
   ]
  },
  {
   "cell_type": "code",
   "execution_count": 9,
   "metadata": {},
   "outputs": [
    {
     "data": {
      "text/plain": [
       "date_str            object\n",
       "sp500              float64\n",
       "djia               float64\n",
       "date_ex1            object\n",
       "date_ex2            object\n",
       "date_ex3            object\n",
       "date        datetime64[ns]\n",
       "dtype: object"
      ]
     },
     "execution_count": 9,
     "metadata": {},
     "output_type": "execute_result"
    }
   ],
   "source": [
    "# Standard data types are \"int\", \"str\", \"float\", and \"bool\"\n",
    "# There is also a \"datetime\" types\n",
    "\n",
    "financial.dtypes"
   ]
  },
  {
   "attachments": {},
   "cell_type": "markdown",
   "metadata": {},
   "source": [
    "<font size = \"5\">\n",
    "\n",
    "Visualize time data"
   ]
  },
  {
   "cell_type": "code",
   "execution_count": 10,
   "metadata": {},
   "outputs": [
    {
     "data": {
      "text/plain": [
       "Text(0.5, 1.0, 'The evolution of the stock market')"
      ]
     },
     "execution_count": 10,
     "metadata": {},
     "output_type": "execute_result"
    },
    {
     "data": {
      "image/png": "[encoded data removed]",
      "text/plain": [
       "<Figure size 640x480 with 1 Axes>"
      ]
     },
     "metadata": {},
     "output_type": "display_data"
    }
   ],
   "source": [
    "# plt.plot() is used to create line plots\n",
    "# The first two arguments are column names for the (x,y) data\n",
    "# The third argument is the data\n",
    "# Make sure that the data is sorted, since the lines will be connected\n",
    "# based on the order of the dataset\n",
    "\n",
    "plt.plot(\"date\", \"sp500\",\n",
    "          data = financial.sort_values(\"date\",ascending = True))\n",
    "plt.xlabel(\"Time\")\n",
    "plt.ylabel(\"S&P 500 Index\")\n",
    "plt.title(\"The evolution of the stock market (SnP)\")\n"
   ]
  },
  {
   "attachments": {},
   "cell_type": "markdown",
   "metadata": {},
   "source": [
    "<font size = \"5\">\n",
    "\n",
    "S&P 500 tracks the average performance of <br>\n",
    "of the largest companies in the US stock market\n",
    "\n",
    "$\\quad$ https://en.wikipedia.org/wiki/S%26P_500 <br>\n",
    "$\\quad$ https://fred.stlouisfed.org/series/SP500"
   ]
  },
  {
   "attachments": {},
   "cell_type": "markdown",
   "metadata": {},
   "source": [
    "<font size = \"5\">\n",
    "\n",
    "Try it yourself!\n",
    "\n",
    "- Generate a line plot which has the Dow Jones <br>\n",
    "Industrial Index (\"djia\") on the y-axis and <br>\n",
    "\"date\" on the x-axis."
   ]
  },
  {
   "cell_type": "code",
   "execution_count": 11,
   "metadata": {},
   "outputs": [
    {
     "data": {
      "text/plain": [
       "Text(0.5, 1.0, 'The evolution of the stock market')"
      ]
     },
     "execution_count": 11,
     "metadata": {},
     "output_type": "execute_result"
    },
    {
     "data": {
      "image/png": "[encoded data removed]",
      "text/plain": [
       "<Figure size 640x480 with 1 Axes>"
      ]
     },
     "metadata": {},
     "output_type": "display_data"
    }
   ],
   "source": [
    "# Write your own code\n",
    "\n",
    "plt.plot(\"date\", \"djia\",\n",
    "          data = financial.sort_values(\"date\",ascending = True))\n",
    "plt.xlabel(\"Time\")\n",
    "plt.ylabel(\"Down Jones Industrial Average\")\n",
    "plt.title(\"The evolution of the stock market (dow)\")"
   ]
  },
  {
   "attachments": {},
   "cell_type": "markdown",
   "metadata": {},
   "source": [
    "# <span style=\"color:darkblue\"> II. Dates + Wild Cards  </span>"
   ]
  },
  {
   "attachments": {},
   "cell_type": "markdown",
   "metadata": {},
   "source": [
    "<font size = \"5\">\n",
    "\n",
    "Convert to string (a)\n",
    "\n",
    "\n",
    "- A wildcard ```%``` is used to denote date formats\n",
    "- Useful when working with text data\n",
    "\n",
    "$\\quad$ <img src=\"figures/wildcards_fig1.png\" alt=\"drawing\" width=\"300\"/>"
   ]
  },
  {
   "cell_type": "code",
   "execution_count": 13,
   "metadata": {},
   "outputs": [
    {
     "data": {
      "text/plain": [
       "0       2018\n",
       "1       2018\n",
       "2       2018\n",
       "3       2018\n",
       "4       2018\n",
       "        ... \n",
       "1300    2023\n",
       "1301    2023\n",
       "1302    2023\n",
       "1303    2023\n",
       "1304    2023\n",
       "Name: date, Length: 1305, dtype: object"
      ]
     },
     "execution_count": 13,
     "metadata": {},
     "output_type": "execute_result"
    }
   ],
   "source": [
    "financial[\"date\"].dt.strftime('%Y')"
   ]
  },
  {
   "cell_type": "code",
   "execution_count": 15,
   "metadata": {},
   "outputs": [
    {
     "data": {
      "text/plain": [
       "0       04\n",
       "1       05\n",
       "2       06\n",
       "3       09\n",
       "4       10\n",
       "        ..\n",
       "1300    29\n",
       "1301    30\n",
       "1302    31\n",
       "1303    03\n",
       "1304    04\n",
       "Name: date, Length: 1305, dtype: object"
      ]
     },
     "execution_count": 15,
     "metadata": {},
     "output_type": "execute_result"
    }
   ],
   "source": [
    "financial[\"date\"].dt.strftime('%d')"
   ]
  },
  {
   "cell_type": "code",
   "execution_count": 17,
   "metadata": {},
   "outputs": [
    {
     "name": "stdout",
     "output_type": "stream",
     "text": [
      "0       04\n",
      "1       04\n",
      "2       04\n",
      "3       04\n",
      "4       04\n",
      "        ..\n",
      "1300    03\n",
      "1301    03\n",
      "1302    03\n",
      "1303    04\n",
      "1304    04\n",
      "Name: month_str, Length: 1305, dtype: object\n",
      "0       14\n",
      "1       14\n",
      "2       14\n",
      "3       15\n",
      "4       15\n",
      "        ..\n",
      "1300    13\n",
      "1301    13\n",
      "1302    13\n",
      "1303    14\n",
      "1304    14\n",
      "Name: week_str, Length: 1305, dtype: object\n"
     ]
    }
   ],
   "source": [
    "# \"String from time\" .dt.strftime()\n",
    "# The first argument needs to be a datetime type \n",
    "# The second argument is the format you want to use\n",
    "# Note: \"dt\" stands for datatime\n",
    "\n",
    "financial[\"month_str\"] = financial[\"date\"].dt.strftime(\"%m\")\n",
    "financial[\"week_str\"]  = financial[\"date\"].dt.strftime(\"%W\")\n",
    "print(financial[\"month_str\"])\n",
    "print(financial[\"week_str\"])\n"
   ]
  },
  {
   "attachments": {},
   "cell_type": "markdown",
   "metadata": {},
   "source": [
    "<font size = \"5\">\n",
    "\n",
    "Convert to string (b)\n",
    "\n",
    "$\\quad$ <img src=\"figures/wildcards_fig2.png\" alt=\"drawing\" width=\"400\"/>"
   ]
  },
  {
   "cell_type": "code",
   "execution_count": 8,
   "metadata": {},
   "outputs": [],
   "source": [
    "financial[\"monthname\"]   =  financial[\"date\"].dt.strftime(\"%B\")\n",
    "financial[\"weekdayname\"] =  financial[\"date\"].dt.strftime(\"%A\")"
   ]
  },
  {
   "attachments": {},
   "cell_type": "markdown",
   "metadata": {},
   "source": [
    "<font size = \"5\">\n",
    "\n",
    "Personalized format"
   ]
  },
  {
   "cell_type": "code",
   "execution_count": 25,
   "metadata": {},
   "outputs": [
    {
     "name": "stdout",
     "output_type": "stream",
     "text": [
      "The day of the week is Monday\n",
      "This is the month of April\n",
      "2018-04\n"
     ]
    }
   ],
   "source": [
    "# Insert wildcards inside custom strings\n",
    "# Internally it will \"fill-in-the-blank\" with the corresponding information\n",
    "# You can use commas, dashes (--), slash (/) or other characters\n",
    "\n",
    "message_monthname =  financial[\"date\"].dt.strftime(\"This is the month of %B\")\n",
    "message_monthday  =  financial[\"date\"].dt.strftime(\"The day of the week is %A\")\n",
    "message_yearmonth =  financial[\"date\"].dt.strftime(\"%Y-%m\")\n",
    "print(message_monthday[3])\n",
    "print(message_monthname[3])\n",
    "print(message_yearmonth[3])\n"
   ]
  },
  {
   "attachments": {},
   "cell_type": "markdown",
   "metadata": {},
   "source": [
    "<font size = \"5\">\n",
    "\n",
    "Try it yourself!\n",
    "\n",
    "- Create a new column called \"date_test\" <br>\n",
    "  which has the format using ```.dt.strftime()```\n",
    "  \n",
    "$\\quad$ ```Monday, December 31, 2023 ```"
   ]
  },
  {
   "cell_type": "code",
   "execution_count": 30,
   "metadata": {},
   "outputs": [
    {
     "data": {
      "text/plain": [
       "0       Wednesday, April 04, 2018\n",
       "1        Thursday, April 05, 2018\n",
       "2          Friday, April 06, 2018\n",
       "3          Monday, April 09, 2018\n",
       "4         Tuesday, April 10, 2018\n",
       "                  ...            \n",
       "1300    Wednesday, March 29, 2023\n",
       "1301     Thursday, March 30, 2023\n",
       "1302       Friday, March 31, 2023\n",
       "1303       Monday, April 03, 2023\n",
       "1304      Tuesday, April 04, 2023\n",
       "Name: day_date, Length: 1305, dtype: object"
      ]
     },
     "execution_count": 30,
     "metadata": {},
     "output_type": "execute_result"
    }
   ],
   "source": [
    "# Write your own code\n",
    "financial[\"day_date\"] = financial[\"date\"].dt.strftime('%A, %B %d, %Y')\n",
    "financial[\"day_date\"]"
   ]
  },
  {
   "attachments": {},
   "cell_type": "markdown",
   "metadata": {},
   "source": [
    "# <span style=\"color:darkblue\"> III. Data Operations </span>"
   ]
  },
  {
   "attachments": {},
   "cell_type": "markdown",
   "metadata": {},
   "source": [
    "<font size = \"5\">\n",
    "\n",
    "Parsing + wild cards\n",
    "\n",
    "$\\quad$ <img src=\"figures/wildcards_fig3.png\" alt=\"drawing\" width=\"400\"/>"
   ]
  },
  {
   "cell_type": "code",
   "execution_count": 31,
   "metadata": {},
   "outputs": [
    {
     "data": {
      "text/html": [
       "<div>\n",
       "<style scoped>\n",
       "    .dataframe tbody tr th:only-of-type {\n",
       "        vertical-align: middle;\n",
       "    }\n",
       "\n",
       "    .dataframe tbody tr th {\n",
       "        vertical-align: top;\n",
       "    }\n",
       "\n",
       "    .dataframe thead th {\n",
       "        text-align: right;\n",
       "    }\n",
       "</style>\n",
       "<table border=\"1\" class=\"dataframe\">\n",
       "  <thead>\n",
       "    <tr style=\"text-align: right;\">\n",
       "      <th></th>\n",
       "      <th>date_str</th>\n",
       "      <th>sp500</th>\n",
       "      <th>djia</th>\n",
       "      <th>date_ex1</th>\n",
       "      <th>date_ex2</th>\n",
       "      <th>date_ex3</th>\n",
       "      <th>date</th>\n",
       "      <th>month_str</th>\n",
       "      <th>week_str</th>\n",
       "      <th>day_date</th>\n",
       "    </tr>\n",
       "  </thead>\n",
       "  <tbody>\n",
       "    <tr>\n",
       "      <th>0</th>\n",
       "      <td>4/4/2018</td>\n",
       "      <td>2644.69</td>\n",
       "      <td>24264.30</td>\n",
       "      <td>April 04 2018</td>\n",
       "      <td>Wednesday, 2018-04-04</td>\n",
       "      <td>4-Apr-18</td>\n",
       "      <td>2018-04-04</td>\n",
       "      <td>04</td>\n",
       "      <td>14</td>\n",
       "      <td>Wednesday, April 04, 2018</td>\n",
       "    </tr>\n",
       "    <tr>\n",
       "      <th>1</th>\n",
       "      <td>4/5/2018</td>\n",
       "      <td>2662.84</td>\n",
       "      <td>24505.22</td>\n",
       "      <td>April 05 2018</td>\n",
       "      <td>Thursday, 2018-04-05</td>\n",
       "      <td>5-Apr-18</td>\n",
       "      <td>2018-04-05</td>\n",
       "      <td>04</td>\n",
       "      <td>14</td>\n",
       "      <td>Thursday, April 05, 2018</td>\n",
       "    </tr>\n",
       "    <tr>\n",
       "      <th>2</th>\n",
       "      <td>4/6/2018</td>\n",
       "      <td>2604.47</td>\n",
       "      <td>23932.76</td>\n",
       "      <td>April 06 2018</td>\n",
       "      <td>Friday, 2018-04-06</td>\n",
       "      <td>6-Apr-18</td>\n",
       "      <td>2018-04-06</td>\n",
       "      <td>04</td>\n",
       "      <td>14</td>\n",
       "      <td>Friday, April 06, 2018</td>\n",
       "    </tr>\n",
       "    <tr>\n",
       "      <th>3</th>\n",
       "      <td>4/9/2018</td>\n",
       "      <td>2613.16</td>\n",
       "      <td>23979.10</td>\n",
       "      <td>April 09 2018</td>\n",
       "      <td>Monday, 2018-04-09</td>\n",
       "      <td>9-Apr-18</td>\n",
       "      <td>2018-04-09</td>\n",
       "      <td>04</td>\n",
       "      <td>15</td>\n",
       "      <td>Monday, April 09, 2018</td>\n",
       "    </tr>\n",
       "    <tr>\n",
       "      <th>4</th>\n",
       "      <td>4/10/2018</td>\n",
       "      <td>2656.87</td>\n",
       "      <td>24408.00</td>\n",
       "      <td>April 10 2018</td>\n",
       "      <td>Tuesday, 2018-04-10</td>\n",
       "      <td>10-Apr-18</td>\n",
       "      <td>2018-04-10</td>\n",
       "      <td>04</td>\n",
       "      <td>15</td>\n",
       "      <td>Tuesday, April 10, 2018</td>\n",
       "    </tr>\n",
       "    <tr>\n",
       "      <th>...</th>\n",
       "      <td>...</td>\n",
       "      <td>...</td>\n",
       "      <td>...</td>\n",
       "      <td>...</td>\n",
       "      <td>...</td>\n",
       "      <td>...</td>\n",
       "      <td>...</td>\n",
       "      <td>...</td>\n",
       "      <td>...</td>\n",
       "      <td>...</td>\n",
       "    </tr>\n",
       "    <tr>\n",
       "      <th>1300</th>\n",
       "      <td>3/29/2023</td>\n",
       "      <td>4027.81</td>\n",
       "      <td>32717.60</td>\n",
       "      <td>March 29 2023</td>\n",
       "      <td>Wednesday, 2023-03-29</td>\n",
       "      <td>29-Mar-23</td>\n",
       "      <td>2023-03-29</td>\n",
       "      <td>03</td>\n",
       "      <td>13</td>\n",
       "      <td>Wednesday, March 29, 2023</td>\n",
       "    </tr>\n",
       "    <tr>\n",
       "      <th>1301</th>\n",
       "      <td>3/30/2023</td>\n",
       "      <td>4050.83</td>\n",
       "      <td>32859.03</td>\n",
       "      <td>March 30 2023</td>\n",
       "      <td>Thursday, 2023-03-30</td>\n",
       "      <td>30-Mar-23</td>\n",
       "      <td>2023-03-30</td>\n",
       "      <td>03</td>\n",
       "      <td>13</td>\n",
       "      <td>Thursday, March 30, 2023</td>\n",
       "    </tr>\n",
       "    <tr>\n",
       "      <th>1302</th>\n",
       "      <td>3/31/2023</td>\n",
       "      <td>4109.31</td>\n",
       "      <td>33274.15</td>\n",
       "      <td>March 31 2023</td>\n",
       "      <td>Friday, 2023-03-31</td>\n",
       "      <td>31-Mar-23</td>\n",
       "      <td>2023-03-31</td>\n",
       "      <td>03</td>\n",
       "      <td>13</td>\n",
       "      <td>Friday, March 31, 2023</td>\n",
       "    </tr>\n",
       "    <tr>\n",
       "      <th>1303</th>\n",
       "      <td>4/3/2023</td>\n",
       "      <td>4124.51</td>\n",
       "      <td>33601.15</td>\n",
       "      <td>April 03 2023</td>\n",
       "      <td>Monday, 2023-04-03</td>\n",
       "      <td>3-Apr-23</td>\n",
       "      <td>2023-04-03</td>\n",
       "      <td>04</td>\n",
       "      <td>14</td>\n",
       "      <td>Monday, April 03, 2023</td>\n",
       "    </tr>\n",
       "    <tr>\n",
       "      <th>1304</th>\n",
       "      <td>4/4/2023</td>\n",
       "      <td>4100.60</td>\n",
       "      <td>33402.38</td>\n",
       "      <td>April 04 2023</td>\n",
       "      <td>Tuesday, 2023-04-04</td>\n",
       "      <td>4-Apr-23</td>\n",
       "      <td>2023-04-04</td>\n",
       "      <td>04</td>\n",
       "      <td>14</td>\n",
       "      <td>Tuesday, April 04, 2023</td>\n",
       "    </tr>\n",
       "  </tbody>\n",
       "</table>\n",
       "<p>1305 rows × 10 columns</p>\n",
       "</div>"
      ],
      "text/plain": [
       "       date_str    sp500      djia       date_ex1               date_ex2  \\\n",
       "0      4/4/2018  2644.69  24264.30  April 04 2018  Wednesday, 2018-04-04   \n",
       "1      4/5/2018  2662.84  24505.22  April 05 2018   Thursday, 2018-04-05   \n",
       "2      4/6/2018  2604.47  23932.76  April 06 2018     Friday, 2018-04-06   \n",
       "3      4/9/2018  2613.16  23979.10  April 09 2018     Monday, 2018-04-09   \n",
       "4     4/10/2018  2656.87  24408.00  April 10 2018    Tuesday, 2018-04-10   \n",
       "...         ...      ...       ...            ...                    ...   \n",
       "1300  3/29/2023  4027.81  32717.60  March 29 2023  Wednesday, 2023-03-29   \n",
       "1301  3/30/2023  4050.83  32859.03  March 30 2023   Thursday, 2023-03-30   \n",
       "1302  3/31/2023  4109.31  33274.15  March 31 2023     Friday, 2023-03-31   \n",
       "1303   4/3/2023  4124.51  33601.15  April 03 2023     Monday, 2023-04-03   \n",
       "1304   4/4/2023  4100.60  33402.38  April 04 2023    Tuesday, 2023-04-04   \n",
       "\n",
       "       date_ex3       date month_str week_str                   day_date  \n",
       "0      4-Apr-18 2018-04-04        04       14  Wednesday, April 04, 2018  \n",
       "1      5-Apr-18 2018-04-05        04       14   Thursday, April 05, 2018  \n",
       "2      6-Apr-18 2018-04-06        04       14     Friday, April 06, 2018  \n",
       "3      9-Apr-18 2018-04-09        04       15     Monday, April 09, 2018  \n",
       "4     10-Apr-18 2018-04-10        04       15    Tuesday, April 10, 2018  \n",
       "...         ...        ...       ...      ...                        ...  \n",
       "1300  29-Mar-23 2023-03-29        03       13  Wednesday, March 29, 2023  \n",
       "1301  30-Mar-23 2023-03-30        03       13   Thursday, March 30, 2023  \n",
       "1302  31-Mar-23 2023-03-31        03       13     Friday, March 31, 2023  \n",
       "1303   3-Apr-23 2023-04-03        04       14     Monday, April 03, 2023  \n",
       "1304   4-Apr-23 2023-04-04        04       14    Tuesday, April 04, 2023  \n",
       "\n",
       "[1305 rows x 10 columns]"
      ]
     },
     "execution_count": 31,
     "metadata": {},
     "output_type": "execute_result"
    }
   ],
   "source": [
    "financial\n",
    "#look at date_ex1 from string into date"
   ]
  },
  {
   "cell_type": "code",
   "execution_count": null,
   "metadata": {},
   "outputs": [],
   "source": [
    "#pd.to_datetime(financial[\"date_ex1\"], format = %B %d %Y)"
   ]
  },
  {
   "cell_type": "code",
   "execution_count": 37,
   "metadata": {},
   "outputs": [],
   "source": [
    "# Combine wildcards + characters depending on the input\n",
    "# Can include spaces, commas, \"/\", \"-\" or any other formatting\n",
    "# Be careful to include the wildcar letters in upper or lower case \n",
    "# depending on the intended format \n",
    "\n",
    "financial[\"date_ex1_fix\"] = pd.to_datetime(financial[\"date_ex1\"], format = \"%B %d %Y\")\n",
    "financial[\"date_ex2_fix\"] = pd.to_datetime(financial[\"date_ex2\"], format = \"%A, %Y-%m-%d\")\n"
   ]
  },
  {
   "cell_type": "code",
   "execution_count": 36,
   "metadata": {},
   "outputs": [
    {
     "name": "stdout",
     "output_type": "stream",
     "text": [
      "0       April 04 2018\n",
      "1       April 05 2018\n",
      "2       April 06 2018\n",
      "3       April 09 2018\n",
      "4       April 10 2018\n",
      "            ...      \n",
      "1300    March 29 2023\n",
      "1301    March 30 2023\n",
      "1302    March 31 2023\n",
      "1303    April 03 2023\n",
      "1304    April 04 2023\n",
      "Name: date_ex1, Length: 1305, dtype: object\n",
      "0      2018-04-04\n",
      "1      2018-04-05\n",
      "2      2018-04-06\n",
      "3      2018-04-09\n",
      "4      2018-04-10\n",
      "          ...    \n",
      "1300   2023-03-29\n",
      "1301   2023-03-30\n",
      "1302   2023-03-31\n",
      "1303   2023-04-03\n",
      "1304   2023-04-04\n",
      "Name: date_ex1_fix, Length: 1305, dtype: datetime64[ns]\n"
     ]
    }
   ],
   "source": [
    "print(financial[\"date_ex1\"])\n",
    "print(financial[\"date_ex1_fix\"])"
   ]
  },
  {
   "cell_type": "markdown",
   "metadata": {},
   "source": [
    "**Does the following line of code work?** ```pd.to_datetime(financial[\"date_ex1\"], format = \"%A, %Y-%m-%d\")```"
   ]
  },
  {
   "attachments": {},
   "cell_type": "markdown",
   "metadata": {},
   "source": [
    "<font size = \"5\">\n",
    "\n",
    "Period grouping"
   ]
  },
  {
   "cell_type": "code",
   "execution_count": 39,
   "metadata": {},
   "outputs": [
    {
     "data": {
      "text/plain": [
       "TimeGrouper(key='date', freq=<MonthEnd>, axis=0, sort=True, dropna=True, closed='right', label='right', how='mean', convention='e', origin='start_day')"
      ]
     },
     "execution_count": 39,
     "metadata": {},
     "output_type": "execute_result"
    }
   ],
   "source": [
    "# In \"freq\" specify the letter for the level of aggregation\n",
    "# year (y), month (m), week (w), day(d)\n",
    "# There are also more advanced options! See documentation\n",
    "\n",
    "month_config = pd.Grouper(key='date', freq='m')\n",
    "month_config # THIS IS ESSENTIALLY A FUNCTION"
   ]
  },
  {
   "cell_type": "code",
   "execution_count": 40,
   "metadata": {},
   "outputs": [
    {
     "data": {
      "text/html": [
       "<div>\n",
       "<style scoped>\n",
       "    .dataframe tbody tr th:only-of-type {\n",
       "        vertical-align: middle;\n",
       "    }\n",
       "\n",
       "    .dataframe tbody tr th {\n",
       "        vertical-align: top;\n",
       "    }\n",
       "\n",
       "    .dataframe thead th {\n",
       "        text-align: right;\n",
       "    }\n",
       "</style>\n",
       "<table border=\"1\" class=\"dataframe\">\n",
       "  <thead>\n",
       "    <tr style=\"text-align: right;\">\n",
       "      <th></th>\n",
       "      <th>sp500_mean</th>\n",
       "    </tr>\n",
       "    <tr>\n",
       "      <th>date</th>\n",
       "      <th></th>\n",
       "    </tr>\n",
       "  </thead>\n",
       "  <tbody>\n",
       "    <tr>\n",
       "      <th>2018-04-30</th>\n",
       "      <td>2659.463158</td>\n",
       "    </tr>\n",
       "    <tr>\n",
       "      <th>2018-05-31</th>\n",
       "      <td>2701.493636</td>\n",
       "    </tr>\n",
       "    <tr>\n",
       "      <th>2018-06-30</th>\n",
       "      <td>2754.352857</td>\n",
       "    </tr>\n",
       "    <tr>\n",
       "      <th>2018-07-31</th>\n",
       "      <td>2793.643333</td>\n",
       "    </tr>\n",
       "    <tr>\n",
       "      <th>2018-08-31</th>\n",
       "      <td>2857.820435</td>\n",
       "    </tr>\n",
       "    <tr>\n",
       "      <th>...</th>\n",
       "      <td>...</td>\n",
       "    </tr>\n",
       "    <tr>\n",
       "      <th>2022-12-31</th>\n",
       "      <td>3912.380952</td>\n",
       "    </tr>\n",
       "    <tr>\n",
       "      <th>2023-01-31</th>\n",
       "      <td>3960.656500</td>\n",
       "    </tr>\n",
       "    <tr>\n",
       "      <th>2023-02-28</th>\n",
       "      <td>4079.684737</td>\n",
       "    </tr>\n",
       "    <tr>\n",
       "      <th>2023-03-31</th>\n",
       "      <td>3968.559130</td>\n",
       "    </tr>\n",
       "    <tr>\n",
       "      <th>2023-04-30</th>\n",
       "      <td>4112.555000</td>\n",
       "    </tr>\n",
       "  </tbody>\n",
       "</table>\n",
       "<p>61 rows × 1 columns</p>\n",
       "</div>"
      ],
      "text/plain": [
       "             sp500_mean\n",
       "date                   \n",
       "2018-04-30  2659.463158\n",
       "2018-05-31  2701.493636\n",
       "2018-06-30  2754.352857\n",
       "2018-07-31  2793.643333\n",
       "2018-08-31  2857.820435\n",
       "...                 ...\n",
       "2022-12-31  3912.380952\n",
       "2023-01-31  3960.656500\n",
       "2023-02-28  4079.684737\n",
       "2023-03-31  3968.559130\n",
       "2023-04-30  4112.555000\n",
       "\n",
       "[61 rows x 1 columns]"
      ]
     },
     "execution_count": 40,
     "metadata": {},
     "output_type": "execute_result"
    }
   ],
   "source": [
    "financial.groupby(month_config).agg(sp500_mean = (\"sp500\", \"mean\"))"
   ]
  },
  {
   "cell_type": "code",
   "execution_count": 41,
   "metadata": {},
   "outputs": [
    {
     "data": {
      "text/html": [
       "<div>\n",
       "<style scoped>\n",
       "    .dataframe tbody tr th:only-of-type {\n",
       "        vertical-align: middle;\n",
       "    }\n",
       "\n",
       "    .dataframe tbody tr th {\n",
       "        vertical-align: top;\n",
       "    }\n",
       "\n",
       "    .dataframe thead th {\n",
       "        text-align: right;\n",
       "    }\n",
       "</style>\n",
       "<table border=\"1\" class=\"dataframe\">\n",
       "  <thead>\n",
       "    <tr style=\"text-align: right;\">\n",
       "      <th></th>\n",
       "      <th>date</th>\n",
       "      <th>sp500_mean</th>\n",
       "    </tr>\n",
       "  </thead>\n",
       "  <tbody>\n",
       "    <tr>\n",
       "      <th>0</th>\n",
       "      <td>2018-04-30</td>\n",
       "      <td>2659.463158</td>\n",
       "    </tr>\n",
       "    <tr>\n",
       "      <th>1</th>\n",
       "      <td>2018-05-31</td>\n",
       "      <td>2701.493636</td>\n",
       "    </tr>\n",
       "    <tr>\n",
       "      <th>2</th>\n",
       "      <td>2018-06-30</td>\n",
       "      <td>2754.352857</td>\n",
       "    </tr>\n",
       "    <tr>\n",
       "      <th>3</th>\n",
       "      <td>2018-07-31</td>\n",
       "      <td>2793.643333</td>\n",
       "    </tr>\n",
       "    <tr>\n",
       "      <th>4</th>\n",
       "      <td>2018-08-31</td>\n",
       "      <td>2857.820435</td>\n",
       "    </tr>\n",
       "    <tr>\n",
       "      <th>...</th>\n",
       "      <td>...</td>\n",
       "      <td>...</td>\n",
       "    </tr>\n",
       "    <tr>\n",
       "      <th>56</th>\n",
       "      <td>2022-12-31</td>\n",
       "      <td>3912.380952</td>\n",
       "    </tr>\n",
       "    <tr>\n",
       "      <th>57</th>\n",
       "      <td>2023-01-31</td>\n",
       "      <td>3960.656500</td>\n",
       "    </tr>\n",
       "    <tr>\n",
       "      <th>58</th>\n",
       "      <td>2023-02-28</td>\n",
       "      <td>4079.684737</td>\n",
       "    </tr>\n",
       "    <tr>\n",
       "      <th>59</th>\n",
       "      <td>2023-03-31</td>\n",
       "      <td>3968.559130</td>\n",
       "    </tr>\n",
       "    <tr>\n",
       "      <th>60</th>\n",
       "      <td>2023-04-30</td>\n",
       "      <td>4112.555000</td>\n",
       "    </tr>\n",
       "  </tbody>\n",
       "</table>\n",
       "<p>61 rows × 2 columns</p>\n",
       "</div>"
      ],
      "text/plain": [
       "         date   sp500_mean\n",
       "0  2018-04-30  2659.463158\n",
       "1  2018-05-31  2701.493636\n",
       "2  2018-06-30  2754.352857\n",
       "3  2018-07-31  2793.643333\n",
       "4  2018-08-31  2857.820435\n",
       "..        ...          ...\n",
       "56 2022-12-31  3912.380952\n",
       "57 2023-01-31  3960.656500\n",
       "58 2023-02-28  4079.684737\n",
       "59 2023-03-31  3968.559130\n",
       "60 2023-04-30  4112.555000\n",
       "\n",
       "[61 rows x 2 columns]"
      ]
     },
     "execution_count": 41,
     "metadata": {},
     "output_type": "execute_result"
    }
   ],
   "source": [
    "financial.groupby(month_config).agg(sp500_mean = (\"sp500\", \"mean\")).reset_index()"
   ]
  },
  {
   "attachments": {},
   "cell_type": "markdown",
   "metadata": {},
   "source": [
    "<font size = \"5\">\n",
    "\n",
    "Aggregate by period"
   ]
  },
  {
   "cell_type": "code",
   "execution_count": 42,
   "metadata": {},
   "outputs": [],
   "source": [
    "# Group on the period column\n",
    "# We use a wrapper () to split the command into multiple lines\n",
    "# The \".reset_index()\" option ensures that the grouper is\n",
    "# converted to a column. This is important for plotting.\n",
    "# There's a lot of options to \n",
    "\n",
    "monthlydata = (financial\n",
    "               .groupby(month_config) \n",
    "               .agg(sp500_mean = (\"sp500\",\"mean\"))\n",
    "               .reset_index())"
   ]
  },
  {
   "attachments": {},
   "cell_type": "markdown",
   "metadata": {},
   "source": [
    "<font size = \"5\">\n",
    "\n",
    "Plot aggregate data"
   ]
  },
  {
   "cell_type": "code",
   "execution_count": 43,
   "metadata": {},
   "outputs": [
    {
     "data": {
      "text/plain": [
       "Text(0.5, 1.0, 'Monthly average stock market performance')"
      ]
     },
     "execution_count": 43,
     "metadata": {},
     "output_type": "execute_result"
    },
    {
     "data": {
      "image/png": "[encoded data removed]",
      "text/plain": [
       "<Figure size 640x480 with 1 Axes>"
      ]
     },
     "metadata": {},
     "output_type": "display_data"
    }
   ],
   "source": [
    "plt.plot(\"date\",\"sp500_mean\",\n",
    "          data = monthlydata.sort_values(\"date\",ascending = True))\n",
    "plt.xlabel(\"Time\")\n",
    "plt.ylabel(\"S&P 500\")\n",
    "plt.title(\"Monthly average stock market performance\")"
   ]
  },
  {
   "attachments": {},
   "cell_type": "markdown",
   "metadata": {},
   "source": [
    "<font size = \"5\">\n",
    "\n",
    "Try it yourself!\n",
    "\n",
    "- Practice ```pd.to_datetime()```\n",
    "- Parse the column \"data_ex3\"\n",
    "- Take a close look at the formatting\n",
    "\n",
    "HINT: Refer to the table of wildcards <br>\n",
    " in the previous section\n"
   ]
  },
  {
   "cell_type": "code",
   "execution_count": 44,
   "metadata": {},
   "outputs": [],
   "source": [
    "# Write your own code\n",
    "financial[\"date_ex3_fix\"] = pd.to_datetime(financial[\"date_ex3\"], format = '%d-%b-%y')"
   ]
  },
  {
   "attachments": {},
   "cell_type": "markdown",
   "metadata": {},
   "source": [
    "<font size = \"5\">\n",
    "\n"
   ]
  },
  {
   "attachments": {},
   "cell_type": "markdown",
   "metadata": {},
   "source": [
    "<font size = \"5\">\n",
    "\n",
    "Try it yourself!\n",
    "\n",
    "- Compute an aggregate dataset which computes the standard <br>\n",
    "deviation of the S&P 500 at the weekly level.\n",
    "- Generate a line plot with your results\n"
   ]
  },
  {
   "cell_type": "code",
   "execution_count": 45,
   "metadata": {},
   "outputs": [],
   "source": [
    "# Write your own code\n",
    "week_config = pd.Grouper(key='date', freq='w')"
   ]
  },
  {
   "cell_type": "code",
   "execution_count": 48,
   "metadata": {},
   "outputs": [
    {
     "data": {
      "text/html": [
       "<div>\n",
       "<style scoped>\n",
       "    .dataframe tbody tr th:only-of-type {\n",
       "        vertical-align: middle;\n",
       "    }\n",
       "\n",
       "    .dataframe tbody tr th {\n",
       "        vertical-align: top;\n",
       "    }\n",
       "\n",
       "    .dataframe thead th {\n",
       "        text-align: right;\n",
       "    }\n",
       "</style>\n",
       "<table border=\"1\" class=\"dataframe\">\n",
       "  <thead>\n",
       "    <tr style=\"text-align: right;\">\n",
       "      <th></th>\n",
       "      <th>date</th>\n",
       "      <th>sp_500_std</th>\n",
       "    </tr>\n",
       "  </thead>\n",
       "  <tbody>\n",
       "    <tr>\n",
       "      <th>0</th>\n",
       "      <td>2018-04-08</td>\n",
       "      <td>29.872305</td>\n",
       "    </tr>\n",
       "    <tr>\n",
       "      <th>1</th>\n",
       "      <td>2018-04-15</td>\n",
       "      <td>20.246041</td>\n",
       "    </tr>\n",
       "    <tr>\n",
       "      <th>2</th>\n",
       "      <td>2018-04-22</td>\n",
       "      <td>17.033965</td>\n",
       "    </tr>\n",
       "    <tr>\n",
       "      <th>3</th>\n",
       "      <td>2018-04-29</td>\n",
       "      <td>17.694402</td>\n",
       "    </tr>\n",
       "    <tr>\n",
       "      <th>4</th>\n",
       "      <td>2018-05-06</td>\n",
       "      <td>13.747390</td>\n",
       "    </tr>\n",
       "    <tr>\n",
       "      <th>...</th>\n",
       "      <td>...</td>\n",
       "      <td>...</td>\n",
       "    </tr>\n",
       "    <tr>\n",
       "      <th>257</th>\n",
       "      <td>2023-03-12</td>\n",
       "      <td>72.372058</td>\n",
       "    </tr>\n",
       "    <tr>\n",
       "      <th>258</th>\n",
       "      <td>2023-03-19</td>\n",
       "      <td>38.469249</td>\n",
       "    </tr>\n",
       "    <tr>\n",
       "      <th>259</th>\n",
       "      <td>2023-03-26</td>\n",
       "      <td>25.800050</td>\n",
       "    </tr>\n",
       "    <tr>\n",
       "      <th>260</th>\n",
       "      <td>2023-04-02</td>\n",
       "      <td>56.780195</td>\n",
       "    </tr>\n",
       "    <tr>\n",
       "      <th>261</th>\n",
       "      <td>2023-04-09</td>\n",
       "      <td>16.906923</td>\n",
       "    </tr>\n",
       "  </tbody>\n",
       "</table>\n",
       "<p>262 rows × 2 columns</p>\n",
       "</div>"
      ],
      "text/plain": [
       "          date  sp_500_std\n",
       "0   2018-04-08   29.872305\n",
       "1   2018-04-15   20.246041\n",
       "2   2018-04-22   17.033965\n",
       "3   2018-04-29   17.694402\n",
       "4   2018-05-06   13.747390\n",
       "..         ...         ...\n",
       "257 2023-03-12   72.372058\n",
       "258 2023-03-19   38.469249\n",
       "259 2023-03-26   25.800050\n",
       "260 2023-04-02   56.780195\n",
       "261 2023-04-09   16.906923\n",
       "\n",
       "[262 rows x 2 columns]"
      ]
     },
     "execution_count": 48,
     "metadata": {},
     "output_type": "execute_result"
    }
   ],
   "source": [
    "std_w_sp500 = financial.groupby(week_config).agg(sp_500_std = ('sp500', 'std')).reset_index()\n",
    "std_w_sp500"
   ]
  },
  {
   "cell_type": "code",
   "execution_count": 51,
   "metadata": {},
   "outputs": [
    {
     "ename": "ValueError",
     "evalue": "'std_w_sp500' is neither a data key nor a valid format string (unrecognized character 't')",
     "output_type": "error",
     "traceback": [
      "\u001b[0;31m---------------------------------------------------------------------------\u001b[0m",
      "\u001b[0;31mValueError\u001b[0m                                Traceback (most recent call last)",
      "Cell \u001b[0;32mIn[51], line 1\u001b[0m\n\u001b[0;32m----> 1\u001b[0m plt\u001b[39m.\u001b[39;49mplot(\u001b[39m\"\u001b[39;49m\u001b[39mdate\u001b[39;49m\u001b[39m\"\u001b[39;49m,\u001b[39m\"\u001b[39;49m\u001b[39mstd_w_sp500\u001b[39;49m\u001b[39m\"\u001b[39;49m,\n\u001b[1;32m      2\u001b[0m           data \u001b[39m=\u001b[39;49m std_w_sp500)\n\u001b[1;32m      3\u001b[0m plt\u001b[39m.\u001b[39mxlabel(\u001b[39m\"\u001b[39m\u001b[39mTime\u001b[39m\u001b[39m\"\u001b[39m)\n\u001b[1;32m      4\u001b[0m plt\u001b[39m.\u001b[39mylabel(\u001b[39m\"\u001b[39m\u001b[39mS&P 500\u001b[39m\u001b[39m\"\u001b[39m)\n",
      "File \u001b[0;32m~/anaconda3/envs/qtm151/lib/python3.11/site-packages/matplotlib/pyplot.py:2812\u001b[0m, in \u001b[0;36mplot\u001b[0;34m(scalex, scaley, data, *args, **kwargs)\u001b[0m\n\u001b[1;32m   2810\u001b[0m \u001b[39m@_copy_docstring_and_deprecators\u001b[39m(Axes\u001b[39m.\u001b[39mplot)\n\u001b[1;32m   2811\u001b[0m \u001b[39mdef\u001b[39;00m \u001b[39mplot\u001b[39m(\u001b[39m*\u001b[39margs, scalex\u001b[39m=\u001b[39m\u001b[39mTrue\u001b[39;00m, scaley\u001b[39m=\u001b[39m\u001b[39mTrue\u001b[39;00m, data\u001b[39m=\u001b[39m\u001b[39mNone\u001b[39;00m, \u001b[39m*\u001b[39m\u001b[39m*\u001b[39mkwargs):\n\u001b[0;32m-> 2812\u001b[0m     \u001b[39mreturn\u001b[39;00m gca()\u001b[39m.\u001b[39;49mplot(\n\u001b[1;32m   2813\u001b[0m         \u001b[39m*\u001b[39;49margs, scalex\u001b[39m=\u001b[39;49mscalex, scaley\u001b[39m=\u001b[39;49mscaley,\n\u001b[1;32m   2814\u001b[0m         \u001b[39m*\u001b[39;49m\u001b[39m*\u001b[39;49m({\u001b[39m\"\u001b[39;49m\u001b[39mdata\u001b[39;49m\u001b[39m\"\u001b[39;49m: data} \u001b[39mif\u001b[39;49;00m data \u001b[39mis\u001b[39;49;00m \u001b[39mnot\u001b[39;49;00m \u001b[39mNone\u001b[39;49;00m \u001b[39melse\u001b[39;49;00m {}), \u001b[39m*\u001b[39;49m\u001b[39m*\u001b[39;49mkwargs)\n",
      "File \u001b[0;32m~/anaconda3/envs/qtm151/lib/python3.11/site-packages/matplotlib/axes/_axes.py:1688\u001b[0m, in \u001b[0;36mAxes.plot\u001b[0;34m(self, scalex, scaley, data, *args, **kwargs)\u001b[0m\n\u001b[1;32m   1445\u001b[0m \u001b[39m\u001b[39m\u001b[39m\"\"\"\u001b[39;00m\n\u001b[1;32m   1446\u001b[0m \u001b[39mPlot y versus x as lines and/or markers.\u001b[39;00m\n\u001b[1;32m   1447\u001b[0m \n\u001b[0;32m   (...)\u001b[0m\n\u001b[1;32m   1685\u001b[0m \u001b[39m(``'green'``) or hex strings (``'#008000'``).\u001b[39;00m\n\u001b[1;32m   1686\u001b[0m \u001b[39m\"\"\"\u001b[39;00m\n\u001b[1;32m   1687\u001b[0m kwargs \u001b[39m=\u001b[39m cbook\u001b[39m.\u001b[39mnormalize_kwargs(kwargs, mlines\u001b[39m.\u001b[39mLine2D)\n\u001b[0;32m-> 1688\u001b[0m lines \u001b[39m=\u001b[39m [\u001b[39m*\u001b[39m\u001b[39mself\u001b[39m\u001b[39m.\u001b[39m_get_lines(\u001b[39m*\u001b[39margs, data\u001b[39m=\u001b[39mdata, \u001b[39m*\u001b[39m\u001b[39m*\u001b[39mkwargs)]\n\u001b[1;32m   1689\u001b[0m \u001b[39mfor\u001b[39;00m line \u001b[39min\u001b[39;00m lines:\n\u001b[1;32m   1690\u001b[0m     \u001b[39mself\u001b[39m\u001b[39m.\u001b[39madd_line(line)\n",
      "File \u001b[0;32m~/anaconda3/envs/qtm151/lib/python3.11/site-packages/matplotlib/axes/_base.py:311\u001b[0m, in \u001b[0;36m_process_plot_var_args.__call__\u001b[0;34m(self, data, *args, **kwargs)\u001b[0m\n\u001b[1;32m    309\u001b[0m     this \u001b[39m+\u001b[39m\u001b[39m=\u001b[39m args[\u001b[39m0\u001b[39m],\n\u001b[1;32m    310\u001b[0m     args \u001b[39m=\u001b[39m args[\u001b[39m1\u001b[39m:]\n\u001b[0;32m--> 311\u001b[0m \u001b[39myield from\u001b[39;00m \u001b[39mself\u001b[39;49m\u001b[39m.\u001b[39;49m_plot_args(\n\u001b[1;32m    312\u001b[0m     this, kwargs, ambiguous_fmt_datakey\u001b[39m=\u001b[39;49mambiguous_fmt_datakey)\n",
      "File \u001b[0;32m~/anaconda3/envs/qtm151/lib/python3.11/site-packages/matplotlib/axes/_base.py:454\u001b[0m, in \u001b[0;36m_process_plot_var_args._plot_args\u001b[0;34m(self, tup, kwargs, return_kwargs, ambiguous_fmt_datakey)\u001b[0m\n\u001b[1;32m    451\u001b[0m \u001b[39mif\u001b[39;00m \u001b[39mlen\u001b[39m(tup) \u001b[39m>\u001b[39m \u001b[39m1\u001b[39m \u001b[39mand\u001b[39;00m \u001b[39misinstance\u001b[39m(tup[\u001b[39m-\u001b[39m\u001b[39m1\u001b[39m], \u001b[39mstr\u001b[39m):\n\u001b[1;32m    452\u001b[0m     \u001b[39m# xy is tup with fmt stripped (could still be (y,) only)\u001b[39;00m\n\u001b[1;32m    453\u001b[0m     \u001b[39m*\u001b[39mxy, fmt \u001b[39m=\u001b[39m tup\n\u001b[0;32m--> 454\u001b[0m     linestyle, marker, color \u001b[39m=\u001b[39m _process_plot_format(\n\u001b[1;32m    455\u001b[0m         fmt, ambiguous_fmt_datakey\u001b[39m=\u001b[39;49mambiguous_fmt_datakey)\n\u001b[1;32m    456\u001b[0m \u001b[39melif\u001b[39;00m \u001b[39mlen\u001b[39m(tup) \u001b[39m==\u001b[39m \u001b[39m3\u001b[39m:\n\u001b[1;32m    457\u001b[0m     \u001b[39mraise\u001b[39;00m \u001b[39mValueError\u001b[39;00m(\u001b[39m'\u001b[39m\u001b[39mthird arg must be a format string\u001b[39m\u001b[39m'\u001b[39m)\n",
      "File \u001b[0;32m~/anaconda3/envs/qtm151/lib/python3.11/site-packages/matplotlib/axes/_base.py:198\u001b[0m, in \u001b[0;36m_process_plot_format\u001b[0;34m(fmt, ambiguous_fmt_datakey)\u001b[0m\n\u001b[1;32m    196\u001b[0m         i \u001b[39m+\u001b[39m\u001b[39m=\u001b[39m \u001b[39m2\u001b[39m\n\u001b[1;32m    197\u001b[0m     \u001b[39melse\u001b[39;00m:\n\u001b[0;32m--> 198\u001b[0m         \u001b[39mraise\u001b[39;00m \u001b[39mValueError\u001b[39;00m(\n\u001b[1;32m    199\u001b[0m             errfmt\u001b[39m.\u001b[39mformat(fmt, \u001b[39mf\u001b[39m\u001b[39m\"\u001b[39m\u001b[39munrecognized character \u001b[39m\u001b[39m{\u001b[39;00mc\u001b[39m!r}\u001b[39;00m\u001b[39m\"\u001b[39m))\n\u001b[1;32m    201\u001b[0m \u001b[39mif\u001b[39;00m linestyle \u001b[39mis\u001b[39;00m \u001b[39mNone\u001b[39;00m \u001b[39mand\u001b[39;00m marker \u001b[39mis\u001b[39;00m \u001b[39mNone\u001b[39;00m:\n\u001b[1;32m    202\u001b[0m     linestyle \u001b[39m=\u001b[39m mpl\u001b[39m.\u001b[39mrcParams[\u001b[39m'\u001b[39m\u001b[39mlines.linestyle\u001b[39m\u001b[39m'\u001b[39m]\n",
      "\u001b[0;31mValueError\u001b[0m: 'std_w_sp500' is neither a data key nor a valid format string (unrecognized character 't')"
     ]
    },
    {
     "data": {
      "image/png": "[encoded data removed]",
      "text/plain": [
       "<Figure size 640x480 with 1 Axes>"
      ]
     },
     "metadata": {},
     "output_type": "display_data"
    }
   ],
   "source": [
    "plt.plot(\"date\",\"std_w_sp500\",\n",
    "          data = std_w_sp500)\n",
    "plt.xlabel(\"Time\")\n",
    "plt.ylabel(\"S&P 500\")\n",
    "plt.title(\"weekly standard deviation of stock market performance\")"
   ]
  },
  {
   "attachments": {},
   "cell_type": "markdown",
   "metadata": {},
   "source": [
    "# <span style=\"color:darkblue\"> IV. Additional Material </span>"
   ]
  },
  {
   "attachments": {},
   "cell_type": "markdown",
   "metadata": {},
   "source": [
    "<font size = \"5\">\n",
    "\n",
    "Full list of wild cards:\n",
    "\n",
    "- More fine-grained, e.g. microseconds, etc.\n",
    "- Other formats, e.g. time zone, \"AM/PM\", etc.\n",
    "\n",
    "https://www.w3schools.com/python/python_datetime.asp"
   ]
  }
 ],
 "metadata": {
  "kernelspec": {
   "display_name": "base",
   "language": "python",
   "name": "python3"
  },
  "language_info": {
   "codemirror_mode": {
    "name": "ipython",
    "version": 3
   },
   "file_extension": ".py",
   "mimetype": "text/x-python",
   "name": "python",
   "nbconvert_exporter": "python",
   "pygments_lexer": "ipython3",
   "version": "3.11.6"
  },
  "orig_nbformat": 4
 },
 "nbformat": 4,
 "nbformat_minor": 2
}
