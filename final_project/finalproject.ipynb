import pandas as pd
import matplotlib as plt
qualifying = pd.read_csv("Formula1-DatasetFull/raw_data/qualifying.csv")
results = pd.read_csv("Formula1-DatasetFull/raw_data/results.csv")
races = pd.read_csv("Formula1-DatasetFull/raw_data/races.csv")

print(results)