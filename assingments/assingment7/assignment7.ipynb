{
 "cells": [
  {
   "attachments": {},
   "cell_type": "markdown",
   "metadata": {},
   "source": [
    "# Assignment 7"
   ]
  },
  {
   "attachments": {},
   "cell_type": "markdown",
   "metadata": {},
   "source": [
    "## Try to submit as an HTML file"
   ]
  },
  {
   "attachments": {},
   "cell_type": "markdown",
   "metadata": {},
   "source": [
    "<font size = \"5\">\n",
    "Print your name below"
   ]
  },
  {
   "cell_type": "code",
   "execution_count": 1,
   "metadata": {},
   "outputs": [
    {
     "name": "stdout",
     "output_type": "stream",
     "text": [
      "Howie Brown\n"
     ]
    }
   ],
   "source": [
    "# Write your answer here:\n",
    "print(\"Howie Brown\")"
   ]
  },
  {
   "attachments": {},
   "cell_type": "markdown",
   "metadata": {},
   "source": [
    "<font size = \"5\">\n",
    "\n",
    "Import the \"pandas\" and \"numpy\" library"
   ]
  },
  {
   "cell_type": "code",
   "execution_count": 2,
   "metadata": {},
   "outputs": [],
   "source": [
    "# Write your answer here:\n",
    "import pandas as pd\n",
    "import numpy as np"
   ]
  },
  {
   "attachments": {},
   "cell_type": "markdown",
   "metadata": {},
   "source": [
    "<font size = \"5\">\n",
    "\n",
    "(a) Replace values from intervals\n",
    "\n",
    "<font size = \"3\">\n",
    "\n",
    "- Import the dataset \"data_raw/students.csv\" to a new object \"students\"\n",
    "- Use \"pd.cut()\" to assign the column \"numericgrade\" to a letter grade <br>\n",
    "using the following table\n",
    "\n",
    "<img src=\"figures/grading_scale.png\" alt=\"drawing\" width=\"600\"/>\n",
    "\n",
    "HINT: See Lecture 12"
   ]
  },
  {
   "cell_type": "code",
   "execution_count": 3,
   "metadata": {},
   "outputs": [
    {
     "name": "stdout",
     "output_type": "stream",
     "text": [
      "    studentid  numericgrade\n",
      "0           1            61\n",
      "1           2             0\n",
      "2           3            14\n",
      "3           4            57\n",
      "4           5            72\n",
      "5           6            93\n",
      "6           7            40\n",
      "7           8            11\n",
      "8           9             3\n",
      "9          10            63\n",
      "10         11             7\n",
      "11         12            46\n",
      "12         13            75\n",
      "13         14            95\n",
      "14         15            22\n",
      "15         16            40\n",
      "16         17            53\n",
      "17         18            57\n",
      "18         19            82\n",
      "19         20            50\n",
      "20         21             8\n",
      "21         22            87\n",
      "22         23            82\n",
      "23         24            30\n",
      "24         25            62\n"
     ]
    },
    {
     "data": {
      "text/plain": [
       "0     C-\n",
       "1      F\n",
       "2      F\n",
       "3      D\n",
       "4     C+\n",
       "5      A\n",
       "6      F\n",
       "7      F\n",
       "8      F\n",
       "9     C-\n",
       "10     F\n",
       "11     F\n",
       "12    B-\n",
       "13     A\n",
       "14     F\n",
       "15     F\n",
       "16     F\n",
       "17     D\n",
       "18     B\n",
       "19     F\n",
       "20     F\n",
       "21    A-\n",
       "22     B\n",
       "23     F\n",
       "24    C-\n",
       "Name: lettergrade, dtype: category\n",
       "Categories (10, object): ['F' < 'D' < 'C-' < 'C' ... 'B' < 'B+' < 'A-' < 'A']"
      ]
     },
     "execution_count": 3,
     "metadata": {},
     "output_type": "execute_result"
    }
   ],
   "source": [
    "\n",
    "# Write your answer here:\n",
    "students = pd.read_csv('data_raw/students.csv')\n",
    "print(students)\n",
    "grades_x = [0,55, 60, 65, 70, 75, 80, 83, 87, 93,100]\n",
    "letters = [\"F\",\"D\",\"C-\",\"C\",\"C+\",\"B-\",\"B\",\"B+\",\"A-\",\"A\"]\n",
    "students[\"lettergrade\"] =pd.cut(students[\"numericgrade\"], \n",
    "                                bins = grades_x, \n",
    "                                right= False, \n",
    "                                labels = letters)\n",
    "students[\"lettergrade\"]\n"
   ]
  },
  {
   "attachments": {},
   "cell_type": "markdown",
   "metadata": {},
   "source": [
    "<font size = \"5\">\n",
    "\n",
    "For questions (b)-(e) use \"sprint_results.csv\", <br>\n",
    "a dataset on competitive car racing\n",
    "\n",
    "Import the dataset \"data_raw/sprint_results.csv\" to <br>\n",
    " a new object \"sprint_results\""
   ]
  },
  {
   "cell_type": "code",
   "execution_count": 4,
   "metadata": {},
   "outputs": [],
   "source": [
    "# Write your own code\n",
    "sprint_results = pd.read_csv(\"data_raw/sprint_results.csv\")"
   ]
  },
  {
   "attachments": {},
   "cell_type": "markdown",
   "metadata": {},
   "source": [
    "<font size = \"5\">\n",
    "\n",
    "(b) Check column types\n",
    "\n",
    "<font size = \"3\">\n",
    "\n",
    "- View the dataset\n",
    "- Use the function `sprint_results.dtypes` to get the column data types\n",
    "- Search for the \"sprint_results\" table in \"codebook/f1_codebook.pdf\".\n",
    "- **Print if the type of the \"position\" column agree with the codebook?** <br>\n",
    "i.e. is it an integer, float, or string/object?\n",
    "\n",
    "HINT: See Lectures 12 and 13 for how to interpret the codebook\n",
    "\n",
    "- Print the difference you observed between the codebook and the new dataframe you have created.\n",
    "\n",
    "---\n",
    "**Optional**\n",
    "- Convert this `sprint_results.dtypes` object type into DataFrame and  the datatype of `position`.\n",
    "- HINT: Use pd.DataFrame().reset_index <br>\n",
    "`reset_index` is to convert the index to a column \n",
    "---\n",
    "\n",
    "\n",
    "\n",
    "\n",
    "\n",
    "<span style = \"color:blue\"> There are other columns that has disparity with the codebook.\\\n",
    "Feel free to explore them! </span>"
   ]
  },
  {
   "cell_type": "code",
   "execution_count": 47,
   "metadata": {},
   "outputs": [
    {
     "name": "stdout",
     "output_type": "stream",
     "text": [
      "The codebook lists the 'position' variable as an integer, however, in the dataframe it is listed as an object\n"
     ]
    }
   ],
   "source": [
    "# Write your own code here\n",
    "# Note: When you run \"sprint_results.dtypes\" you will get the type (int, float, object)\n",
    "# Object represents columns coded as strings.\n",
    "column_types = sprint_results.dtypes\n",
    "column_types\n",
    "print(\"The codebook lists the 'position' variable as an integer, however, in the dataframe it is listed as an \"+\n",
    "      str(sprint_results['position'].dtypes))\n"
   ]
  },
  {
   "attachments": {},
   "cell_type": "markdown",
   "metadata": {},
   "source": [
    "<font size = \"5\">\n",
    "\n",
    "(c) Clean a column\n",
    "\n",
    "<font size = \"3\">\n",
    "\n",
    "- Our goal is to replace any string values in the column \"position\" <br>\n",
    "to missing values (NaNs) and covert to numeric\n",
    "\n",
    "- To do so\n",
    "    1. Extract list of non-numeric values\n",
    "    2. Replace certain list of values\n",
    "    3. Convert column to numeric\n",
    "    4. Display\n"
   ]
  },
  {
   "cell_type": "code",
   "execution_count": 9,
   "metadata": {},
   "outputs": [
    {
     "ename": "AttributeError",
     "evalue": "Can only use .str accessor with string values!",
     "output_type": "error",
     "traceback": [
      "\u001b[0;31m---------------------------------------------------------------------------\u001b[0m",
      "\u001b[0;31mAttributeError\u001b[0m                            Traceback (most recent call last)",
      "Cell \u001b[0;32mIn[9], line 3\u001b[0m\n\u001b[1;32m      1\u001b[0m \u001b[39m# Write your own code here\u001b[39;00m\n\u001b[1;32m      2\u001b[0m \u001b[39m# Create and store a list of non-numeric values\u001b[39;00m\n\u001b[0;32m----> 3\u001b[0m subset \u001b[39m=\u001b[39m sprint_results\u001b[39m.\u001b[39;49mquery(\u001b[39m\"\u001b[39;49m\u001b[39mposition.str.isnumeric() == False\u001b[39;49m\u001b[39m\"\u001b[39;49m)\n\u001b[1;32m      4\u001b[0m list_unique \u001b[39m=\u001b[39m pd\u001b[39m.\u001b[39munique(subset[\u001b[39m\"\u001b[39m\u001b[39mposition\u001b[39m\u001b[39m\"\u001b[39m])\n\u001b[1;32m      5\u001b[0m \u001b[39mprint\u001b[39m(list_unique)\n",
      "File \u001b[0;32m~/anaconda3/envs/qtm151/lib/python3.11/site-packages/pandas/core/frame.py:4440\u001b[0m, in \u001b[0;36mDataFrame.query\u001b[0;34m(self, expr, inplace, **kwargs)\u001b[0m\n\u001b[1;32m   4438\u001b[0m kwargs[\u001b[39m\"\u001b[39m\u001b[39mlevel\u001b[39m\u001b[39m\"\u001b[39m] \u001b[39m=\u001b[39m kwargs\u001b[39m.\u001b[39mpop(\u001b[39m\"\u001b[39m\u001b[39mlevel\u001b[39m\u001b[39m\"\u001b[39m, \u001b[39m0\u001b[39m) \u001b[39m+\u001b[39m \u001b[39m1\u001b[39m\n\u001b[1;32m   4439\u001b[0m kwargs[\u001b[39m\"\u001b[39m\u001b[39mtarget\u001b[39m\u001b[39m\"\u001b[39m] \u001b[39m=\u001b[39m \u001b[39mNone\u001b[39;00m\n\u001b[0;32m-> 4440\u001b[0m res \u001b[39m=\u001b[39m \u001b[39mself\u001b[39;49m\u001b[39m.\u001b[39;49meval(expr, \u001b[39m*\u001b[39;49m\u001b[39m*\u001b[39;49mkwargs)\n\u001b[1;32m   4442\u001b[0m \u001b[39mtry\u001b[39;00m:\n\u001b[1;32m   4443\u001b[0m     result \u001b[39m=\u001b[39m \u001b[39mself\u001b[39m\u001b[39m.\u001b[39mloc[res]\n",
      "File \u001b[0;32m~/anaconda3/envs/qtm151/lib/python3.11/site-packages/pandas/core/frame.py:4566\u001b[0m, in \u001b[0;36mDataFrame.eval\u001b[0;34m(self, expr, inplace, **kwargs)\u001b[0m\n\u001b[1;32m   4563\u001b[0m     kwargs[\u001b[39m\"\u001b[39m\u001b[39mtarget\u001b[39m\u001b[39m\"\u001b[39m] \u001b[39m=\u001b[39m \u001b[39mself\u001b[39m\n\u001b[1;32m   4564\u001b[0m kwargs[\u001b[39m\"\u001b[39m\u001b[39mresolvers\u001b[39m\u001b[39m\"\u001b[39m] \u001b[39m=\u001b[39m \u001b[39mtuple\u001b[39m(kwargs\u001b[39m.\u001b[39mget(\u001b[39m\"\u001b[39m\u001b[39mresolvers\u001b[39m\u001b[39m\"\u001b[39m, ())) \u001b[39m+\u001b[39m resolvers\n\u001b[0;32m-> 4566\u001b[0m \u001b[39mreturn\u001b[39;00m _eval(expr, inplace\u001b[39m=\u001b[39;49minplace, \u001b[39m*\u001b[39;49m\u001b[39m*\u001b[39;49mkwargs)\n",
      "File \u001b[0;32m~/anaconda3/envs/qtm151/lib/python3.11/site-packages/pandas/core/computation/eval.py:336\u001b[0m, in \u001b[0;36meval\u001b[0;34m(expr, parser, engine, local_dict, global_dict, resolvers, level, target, inplace)\u001b[0m\n\u001b[1;32m    327\u001b[0m \u001b[39m# get our (possibly passed-in) scope\u001b[39;00m\n\u001b[1;32m    328\u001b[0m env \u001b[39m=\u001b[39m ensure_scope(\n\u001b[1;32m    329\u001b[0m     level \u001b[39m+\u001b[39m \u001b[39m1\u001b[39m,\n\u001b[1;32m    330\u001b[0m     global_dict\u001b[39m=\u001b[39mglobal_dict,\n\u001b[0;32m   (...)\u001b[0m\n\u001b[1;32m    333\u001b[0m     target\u001b[39m=\u001b[39mtarget,\n\u001b[1;32m    334\u001b[0m )\n\u001b[0;32m--> 336\u001b[0m parsed_expr \u001b[39m=\u001b[39m Expr(expr, engine\u001b[39m=\u001b[39;49mengine, parser\u001b[39m=\u001b[39;49mparser, env\u001b[39m=\u001b[39;49menv)\n\u001b[1;32m    338\u001b[0m \u001b[39mif\u001b[39;00m engine \u001b[39m==\u001b[39m \u001b[39m\"\u001b[39m\u001b[39mnumexpr\u001b[39m\u001b[39m\"\u001b[39m \u001b[39mand\u001b[39;00m (\n\u001b[1;32m    339\u001b[0m     is_extension_array_dtype(parsed_expr\u001b[39m.\u001b[39mterms\u001b[39m.\u001b[39mreturn_type)\n\u001b[1;32m    340\u001b[0m     \u001b[39mor\u001b[39;00m \u001b[39mgetattr\u001b[39m(parsed_expr\u001b[39m.\u001b[39mterms, \u001b[39m\"\u001b[39m\u001b[39moperand_types\u001b[39m\u001b[39m\"\u001b[39m, \u001b[39mNone\u001b[39;00m) \u001b[39mis\u001b[39;00m \u001b[39mnot\u001b[39;00m \u001b[39mNone\u001b[39;00m\n\u001b[0;32m   (...)\u001b[0m\n\u001b[1;32m    344\u001b[0m     )\n\u001b[1;32m    345\u001b[0m ):\n\u001b[1;32m    346\u001b[0m     warnings\u001b[39m.\u001b[39mwarn(\n\u001b[1;32m    347\u001b[0m         \u001b[39m\"\u001b[39m\u001b[39mEngine has switched to \u001b[39m\u001b[39m'\u001b[39m\u001b[39mpython\u001b[39m\u001b[39m'\u001b[39m\u001b[39m because numexpr does not support \u001b[39m\u001b[39m\"\u001b[39m\n\u001b[1;32m    348\u001b[0m         \u001b[39m\"\u001b[39m\u001b[39mextension array dtypes. Please set your engine to python manually.\u001b[39m\u001b[39m\"\u001b[39m,\n\u001b[1;32m    349\u001b[0m         \u001b[39mRuntimeWarning\u001b[39;00m,\n\u001b[1;32m    350\u001b[0m         stacklevel\u001b[39m=\u001b[39mfind_stack_level(),\n\u001b[1;32m    351\u001b[0m     )\n",
      "File \u001b[0;32m~/anaconda3/envs/qtm151/lib/python3.11/site-packages/pandas/core/computation/expr.py:809\u001b[0m, in \u001b[0;36mExpr.__init__\u001b[0;34m(self, expr, engine, parser, env, level)\u001b[0m\n\u001b[1;32m    807\u001b[0m \u001b[39mself\u001b[39m\u001b[39m.\u001b[39mparser \u001b[39m=\u001b[39m parser\n\u001b[1;32m    808\u001b[0m \u001b[39mself\u001b[39m\u001b[39m.\u001b[39m_visitor \u001b[39m=\u001b[39m PARSERS[parser](\u001b[39mself\u001b[39m\u001b[39m.\u001b[39menv, \u001b[39mself\u001b[39m\u001b[39m.\u001b[39mengine, \u001b[39mself\u001b[39m\u001b[39m.\u001b[39mparser)\n\u001b[0;32m--> 809\u001b[0m \u001b[39mself\u001b[39m\u001b[39m.\u001b[39mterms \u001b[39m=\u001b[39m \u001b[39mself\u001b[39;49m\u001b[39m.\u001b[39;49mparse()\n",
      "File \u001b[0;32m~/anaconda3/envs/qtm151/lib/python3.11/site-packages/pandas/core/computation/expr.py:828\u001b[0m, in \u001b[0;36mExpr.parse\u001b[0;34m(self)\u001b[0m\n\u001b[1;32m    824\u001b[0m \u001b[39mdef\u001b[39;00m \u001b[39mparse\u001b[39m(\u001b[39mself\u001b[39m):\n\u001b[1;32m    825\u001b[0m \u001b[39m    \u001b[39m\u001b[39m\"\"\"\u001b[39;00m\n\u001b[1;32m    826\u001b[0m \u001b[39m    Parse an expression.\u001b[39;00m\n\u001b[1;32m    827\u001b[0m \u001b[39m    \"\"\"\u001b[39;00m\n\u001b[0;32m--> 828\u001b[0m     \u001b[39mreturn\u001b[39;00m \u001b[39mself\u001b[39;49m\u001b[39m.\u001b[39;49m_visitor\u001b[39m.\u001b[39;49mvisit(\u001b[39mself\u001b[39;49m\u001b[39m.\u001b[39;49mexpr)\n",
      "File \u001b[0;32m~/anaconda3/envs/qtm151/lib/python3.11/site-packages/pandas/core/computation/expr.py:415\u001b[0m, in \u001b[0;36mBaseExprVisitor.visit\u001b[0;34m(self, node, **kwargs)\u001b[0m\n\u001b[1;32m    413\u001b[0m method \u001b[39m=\u001b[39m \u001b[39mf\u001b[39m\u001b[39m\"\u001b[39m\u001b[39mvisit_\u001b[39m\u001b[39m{\u001b[39;00m\u001b[39mtype\u001b[39m(node)\u001b[39m.\u001b[39m\u001b[39m__name__\u001b[39m\u001b[39m}\u001b[39;00m\u001b[39m\"\u001b[39m\n\u001b[1;32m    414\u001b[0m visitor \u001b[39m=\u001b[39m \u001b[39mgetattr\u001b[39m(\u001b[39mself\u001b[39m, method)\n\u001b[0;32m--> 415\u001b[0m \u001b[39mreturn\u001b[39;00m visitor(node, \u001b[39m*\u001b[39;49m\u001b[39m*\u001b[39;49mkwargs)\n",
      "File \u001b[0;32m~/anaconda3/envs/qtm151/lib/python3.11/site-packages/pandas/core/computation/expr.py:421\u001b[0m, in \u001b[0;36mBaseExprVisitor.visit_Module\u001b[0;34m(self, node, **kwargs)\u001b[0m\n\u001b[1;32m    419\u001b[0m     \u001b[39mraise\u001b[39;00m \u001b[39mSyntaxError\u001b[39;00m(\u001b[39m\"\u001b[39m\u001b[39monly a single expression is allowed\u001b[39m\u001b[39m\"\u001b[39m)\n\u001b[1;32m    420\u001b[0m expr \u001b[39m=\u001b[39m node\u001b[39m.\u001b[39mbody[\u001b[39m0\u001b[39m]\n\u001b[0;32m--> 421\u001b[0m \u001b[39mreturn\u001b[39;00m \u001b[39mself\u001b[39;49m\u001b[39m.\u001b[39;49mvisit(expr, \u001b[39m*\u001b[39;49m\u001b[39m*\u001b[39;49mkwargs)\n",
      "File \u001b[0;32m~/anaconda3/envs/qtm151/lib/python3.11/site-packages/pandas/core/computation/expr.py:415\u001b[0m, in \u001b[0;36mBaseExprVisitor.visit\u001b[0;34m(self, node, **kwargs)\u001b[0m\n\u001b[1;32m    413\u001b[0m method \u001b[39m=\u001b[39m \u001b[39mf\u001b[39m\u001b[39m\"\u001b[39m\u001b[39mvisit_\u001b[39m\u001b[39m{\u001b[39;00m\u001b[39mtype\u001b[39m(node)\u001b[39m.\u001b[39m\u001b[39m__name__\u001b[39m\u001b[39m}\u001b[39;00m\u001b[39m\"\u001b[39m\n\u001b[1;32m    414\u001b[0m visitor \u001b[39m=\u001b[39m \u001b[39mgetattr\u001b[39m(\u001b[39mself\u001b[39m, method)\n\u001b[0;32m--> 415\u001b[0m \u001b[39mreturn\u001b[39;00m visitor(node, \u001b[39m*\u001b[39;49m\u001b[39m*\u001b[39;49mkwargs)\n",
      "File \u001b[0;32m~/anaconda3/envs/qtm151/lib/python3.11/site-packages/pandas/core/computation/expr.py:424\u001b[0m, in \u001b[0;36mBaseExprVisitor.visit_Expr\u001b[0;34m(self, node, **kwargs)\u001b[0m\n\u001b[1;32m    423\u001b[0m \u001b[39mdef\u001b[39;00m \u001b[39mvisit_Expr\u001b[39m(\u001b[39mself\u001b[39m, node, \u001b[39m*\u001b[39m\u001b[39m*\u001b[39mkwargs):\n\u001b[0;32m--> 424\u001b[0m     \u001b[39mreturn\u001b[39;00m \u001b[39mself\u001b[39;49m\u001b[39m.\u001b[39;49mvisit(node\u001b[39m.\u001b[39;49mvalue, \u001b[39m*\u001b[39;49m\u001b[39m*\u001b[39;49mkwargs)\n",
      "File \u001b[0;32m~/anaconda3/envs/qtm151/lib/python3.11/site-packages/pandas/core/computation/expr.py:415\u001b[0m, in \u001b[0;36mBaseExprVisitor.visit\u001b[0;34m(self, node, **kwargs)\u001b[0m\n\u001b[1;32m    413\u001b[0m method \u001b[39m=\u001b[39m \u001b[39mf\u001b[39m\u001b[39m\"\u001b[39m\u001b[39mvisit_\u001b[39m\u001b[39m{\u001b[39;00m\u001b[39mtype\u001b[39m(node)\u001b[39m.\u001b[39m\u001b[39m__name__\u001b[39m\u001b[39m}\u001b[39;00m\u001b[39m\"\u001b[39m\n\u001b[1;32m    414\u001b[0m visitor \u001b[39m=\u001b[39m \u001b[39mgetattr\u001b[39m(\u001b[39mself\u001b[39m, method)\n\u001b[0;32m--> 415\u001b[0m \u001b[39mreturn\u001b[39;00m visitor(node, \u001b[39m*\u001b[39;49m\u001b[39m*\u001b[39;49mkwargs)\n",
      "File \u001b[0;32m~/anaconda3/envs/qtm151/lib/python3.11/site-packages/pandas/core/computation/expr.py:719\u001b[0m, in \u001b[0;36mBaseExprVisitor.visit_Compare\u001b[0;34m(self, node, **kwargs)\u001b[0m\n\u001b[1;32m    717\u001b[0m     op \u001b[39m=\u001b[39m \u001b[39mself\u001b[39m\u001b[39m.\u001b[39mtranslate_In(ops[\u001b[39m0\u001b[39m])\n\u001b[1;32m    718\u001b[0m     binop \u001b[39m=\u001b[39m ast\u001b[39m.\u001b[39mBinOp(op\u001b[39m=\u001b[39mop, left\u001b[39m=\u001b[39mnode\u001b[39m.\u001b[39mleft, right\u001b[39m=\u001b[39mcomps[\u001b[39m0\u001b[39m])\n\u001b[0;32m--> 719\u001b[0m     \u001b[39mreturn\u001b[39;00m \u001b[39mself\u001b[39;49m\u001b[39m.\u001b[39;49mvisit(binop)\n\u001b[1;32m    721\u001b[0m \u001b[39m# recursive case: we have a chained comparison, a CMP b CMP c, etc.\u001b[39;00m\n\u001b[1;32m    722\u001b[0m left \u001b[39m=\u001b[39m node\u001b[39m.\u001b[39mleft\n",
      "File \u001b[0;32m~/anaconda3/envs/qtm151/lib/python3.11/site-packages/pandas/core/computation/expr.py:415\u001b[0m, in \u001b[0;36mBaseExprVisitor.visit\u001b[0;34m(self, node, **kwargs)\u001b[0m\n\u001b[1;32m    413\u001b[0m method \u001b[39m=\u001b[39m \u001b[39mf\u001b[39m\u001b[39m\"\u001b[39m\u001b[39mvisit_\u001b[39m\u001b[39m{\u001b[39;00m\u001b[39mtype\u001b[39m(node)\u001b[39m.\u001b[39m\u001b[39m__name__\u001b[39m\u001b[39m}\u001b[39;00m\u001b[39m\"\u001b[39m\n\u001b[1;32m    414\u001b[0m visitor \u001b[39m=\u001b[39m \u001b[39mgetattr\u001b[39m(\u001b[39mself\u001b[39m, method)\n\u001b[0;32m--> 415\u001b[0m \u001b[39mreturn\u001b[39;00m visitor(node, \u001b[39m*\u001b[39;49m\u001b[39m*\u001b[39;49mkwargs)\n",
      "File \u001b[0;32m~/anaconda3/envs/qtm151/lib/python3.11/site-packages/pandas/core/computation/expr.py:535\u001b[0m, in \u001b[0;36mBaseExprVisitor.visit_BinOp\u001b[0;34m(self, node, **kwargs)\u001b[0m\n\u001b[1;32m    534\u001b[0m \u001b[39mdef\u001b[39;00m \u001b[39mvisit_BinOp\u001b[39m(\u001b[39mself\u001b[39m, node, \u001b[39m*\u001b[39m\u001b[39m*\u001b[39mkwargs):\n\u001b[0;32m--> 535\u001b[0m     op, op_class, left, right \u001b[39m=\u001b[39m \u001b[39mself\u001b[39;49m\u001b[39m.\u001b[39;49m_maybe_transform_eq_ne(node)\n\u001b[1;32m    536\u001b[0m     left, right \u001b[39m=\u001b[39m \u001b[39mself\u001b[39m\u001b[39m.\u001b[39m_maybe_downcast_constants(left, right)\n\u001b[1;32m    537\u001b[0m     \u001b[39mreturn\u001b[39;00m \u001b[39mself\u001b[39m\u001b[39m.\u001b[39m_maybe_evaluate_binop(op, op_class, left, right)\n",
      "File \u001b[0;32m~/anaconda3/envs/qtm151/lib/python3.11/site-packages/pandas/core/computation/expr.py:455\u001b[0m, in \u001b[0;36mBaseExprVisitor._maybe_transform_eq_ne\u001b[0;34m(self, node, left, right)\u001b[0m\n\u001b[1;32m    453\u001b[0m \u001b[39mdef\u001b[39;00m \u001b[39m_maybe_transform_eq_ne\u001b[39m(\u001b[39mself\u001b[39m, node, left\u001b[39m=\u001b[39m\u001b[39mNone\u001b[39;00m, right\u001b[39m=\u001b[39m\u001b[39mNone\u001b[39;00m):\n\u001b[1;32m    454\u001b[0m     \u001b[39mif\u001b[39;00m left \u001b[39mis\u001b[39;00m \u001b[39mNone\u001b[39;00m:\n\u001b[0;32m--> 455\u001b[0m         left \u001b[39m=\u001b[39m \u001b[39mself\u001b[39;49m\u001b[39m.\u001b[39;49mvisit(node\u001b[39m.\u001b[39;49mleft, side\u001b[39m=\u001b[39;49m\u001b[39m\"\u001b[39;49m\u001b[39mleft\u001b[39;49m\u001b[39m\"\u001b[39;49m)\n\u001b[1;32m    456\u001b[0m     \u001b[39mif\u001b[39;00m right \u001b[39mis\u001b[39;00m \u001b[39mNone\u001b[39;00m:\n\u001b[1;32m    457\u001b[0m         right \u001b[39m=\u001b[39m \u001b[39mself\u001b[39m\u001b[39m.\u001b[39mvisit(node\u001b[39m.\u001b[39mright, side\u001b[39m=\u001b[39m\u001b[39m\"\u001b[39m\u001b[39mright\u001b[39m\u001b[39m\"\u001b[39m)\n",
      "File \u001b[0;32m~/anaconda3/envs/qtm151/lib/python3.11/site-packages/pandas/core/computation/expr.py:415\u001b[0m, in \u001b[0;36mBaseExprVisitor.visit\u001b[0;34m(self, node, **kwargs)\u001b[0m\n\u001b[1;32m    413\u001b[0m method \u001b[39m=\u001b[39m \u001b[39mf\u001b[39m\u001b[39m\"\u001b[39m\u001b[39mvisit_\u001b[39m\u001b[39m{\u001b[39;00m\u001b[39mtype\u001b[39m(node)\u001b[39m.\u001b[39m\u001b[39m__name__\u001b[39m\u001b[39m}\u001b[39;00m\u001b[39m\"\u001b[39m\n\u001b[1;32m    414\u001b[0m visitor \u001b[39m=\u001b[39m \u001b[39mgetattr\u001b[39m(\u001b[39mself\u001b[39m, method)\n\u001b[0;32m--> 415\u001b[0m \u001b[39mreturn\u001b[39;00m visitor(node, \u001b[39m*\u001b[39;49m\u001b[39m*\u001b[39;49mkwargs)\n",
      "File \u001b[0;32m~/anaconda3/envs/qtm151/lib/python3.11/site-packages/pandas/core/computation/expr.py:659\u001b[0m, in \u001b[0;36mBaseExprVisitor.visit_Call\u001b[0;34m(self, node, side, **kwargs)\u001b[0m\n\u001b[1;32m    657\u001b[0m \u001b[39mdef\u001b[39;00m \u001b[39mvisit_Call\u001b[39m(\u001b[39mself\u001b[39m, node, side\u001b[39m=\u001b[39m\u001b[39mNone\u001b[39;00m, \u001b[39m*\u001b[39m\u001b[39m*\u001b[39mkwargs):\n\u001b[1;32m    658\u001b[0m     \u001b[39mif\u001b[39;00m \u001b[39misinstance\u001b[39m(node\u001b[39m.\u001b[39mfunc, ast\u001b[39m.\u001b[39mAttribute) \u001b[39mand\u001b[39;00m node\u001b[39m.\u001b[39mfunc\u001b[39m.\u001b[39mattr \u001b[39m!=\u001b[39m \u001b[39m\"\u001b[39m\u001b[39m__call__\u001b[39m\u001b[39m\"\u001b[39m:\n\u001b[0;32m--> 659\u001b[0m         res \u001b[39m=\u001b[39m \u001b[39mself\u001b[39;49m\u001b[39m.\u001b[39;49mvisit_Attribute(node\u001b[39m.\u001b[39;49mfunc)\n\u001b[1;32m    660\u001b[0m     \u001b[39melif\u001b[39;00m \u001b[39mnot\u001b[39;00m \u001b[39misinstance\u001b[39m(node\u001b[39m.\u001b[39mfunc, ast\u001b[39m.\u001b[39mName):\n\u001b[1;32m    661\u001b[0m         \u001b[39mraise\u001b[39;00m \u001b[39mTypeError\u001b[39;00m(\u001b[39m\"\u001b[39m\u001b[39mOnly named functions are supported\u001b[39m\u001b[39m\"\u001b[39m)\n",
      "File \u001b[0;32m~/anaconda3/envs/qtm151/lib/python3.11/site-packages/pandas/core/computation/expr.py:644\u001b[0m, in \u001b[0;36mBaseExprVisitor.visit_Attribute\u001b[0;34m(self, node, **kwargs)\u001b[0m\n\u001b[1;32m    641\u001b[0m ctx \u001b[39m=\u001b[39m node\u001b[39m.\u001b[39mctx\n\u001b[1;32m    642\u001b[0m \u001b[39mif\u001b[39;00m \u001b[39misinstance\u001b[39m(ctx, ast\u001b[39m.\u001b[39mLoad):\n\u001b[1;32m    643\u001b[0m     \u001b[39m# resolve the value\u001b[39;00m\n\u001b[0;32m--> 644\u001b[0m     resolved \u001b[39m=\u001b[39m \u001b[39mself\u001b[39;49m\u001b[39m.\u001b[39;49mvisit(value)\u001b[39m.\u001b[39mvalue\n\u001b[1;32m    645\u001b[0m     \u001b[39mtry\u001b[39;00m:\n\u001b[1;32m    646\u001b[0m         v \u001b[39m=\u001b[39m \u001b[39mgetattr\u001b[39m(resolved, attr)\n",
      "File \u001b[0;32m~/anaconda3/envs/qtm151/lib/python3.11/site-packages/pandas/core/computation/expr.py:415\u001b[0m, in \u001b[0;36mBaseExprVisitor.visit\u001b[0;34m(self, node, **kwargs)\u001b[0m\n\u001b[1;32m    413\u001b[0m method \u001b[39m=\u001b[39m \u001b[39mf\u001b[39m\u001b[39m\"\u001b[39m\u001b[39mvisit_\u001b[39m\u001b[39m{\u001b[39;00m\u001b[39mtype\u001b[39m(node)\u001b[39m.\u001b[39m\u001b[39m__name__\u001b[39m\u001b[39m}\u001b[39;00m\u001b[39m\"\u001b[39m\n\u001b[1;32m    414\u001b[0m visitor \u001b[39m=\u001b[39m \u001b[39mgetattr\u001b[39m(\u001b[39mself\u001b[39m, method)\n\u001b[0;32m--> 415\u001b[0m \u001b[39mreturn\u001b[39;00m visitor(node, \u001b[39m*\u001b[39;49m\u001b[39m*\u001b[39;49mkwargs)\n",
      "File \u001b[0;32m~/anaconda3/envs/qtm151/lib/python3.11/site-packages/pandas/core/computation/expr.py:646\u001b[0m, in \u001b[0;36mBaseExprVisitor.visit_Attribute\u001b[0;34m(self, node, **kwargs)\u001b[0m\n\u001b[1;32m    644\u001b[0m resolved \u001b[39m=\u001b[39m \u001b[39mself\u001b[39m\u001b[39m.\u001b[39mvisit(value)\u001b[39m.\u001b[39mvalue\n\u001b[1;32m    645\u001b[0m \u001b[39mtry\u001b[39;00m:\n\u001b[0;32m--> 646\u001b[0m     v \u001b[39m=\u001b[39m \u001b[39mgetattr\u001b[39;49m(resolved, attr)\n\u001b[1;32m    647\u001b[0m     name \u001b[39m=\u001b[39m \u001b[39mself\u001b[39m\u001b[39m.\u001b[39menv\u001b[39m.\u001b[39madd_tmp(v)\n\u001b[1;32m    648\u001b[0m     \u001b[39mreturn\u001b[39;00m \u001b[39mself\u001b[39m\u001b[39m.\u001b[39mterm_type(name, \u001b[39mself\u001b[39m\u001b[39m.\u001b[39menv)\n",
      "File \u001b[0;32m~/anaconda3/envs/qtm151/lib/python3.11/site-packages/pandas/core/generic.py:5989\u001b[0m, in \u001b[0;36mNDFrame.__getattr__\u001b[0;34m(self, name)\u001b[0m\n\u001b[1;32m   5982\u001b[0m \u001b[39mif\u001b[39;00m (\n\u001b[1;32m   5983\u001b[0m     name \u001b[39mnot\u001b[39;00m \u001b[39min\u001b[39;00m \u001b[39mself\u001b[39m\u001b[39m.\u001b[39m_internal_names_set\n\u001b[1;32m   5984\u001b[0m     \u001b[39mand\u001b[39;00m name \u001b[39mnot\u001b[39;00m \u001b[39min\u001b[39;00m \u001b[39mself\u001b[39m\u001b[39m.\u001b[39m_metadata\n\u001b[1;32m   5985\u001b[0m     \u001b[39mand\u001b[39;00m name \u001b[39mnot\u001b[39;00m \u001b[39min\u001b[39;00m \u001b[39mself\u001b[39m\u001b[39m.\u001b[39m_accessors\n\u001b[1;32m   5986\u001b[0m     \u001b[39mand\u001b[39;00m \u001b[39mself\u001b[39m\u001b[39m.\u001b[39m_info_axis\u001b[39m.\u001b[39m_can_hold_identifiers_and_holds_name(name)\n\u001b[1;32m   5987\u001b[0m ):\n\u001b[1;32m   5988\u001b[0m     \u001b[39mreturn\u001b[39;00m \u001b[39mself\u001b[39m[name]\n\u001b[0;32m-> 5989\u001b[0m \u001b[39mreturn\u001b[39;00m \u001b[39mobject\u001b[39;49m\u001b[39m.\u001b[39;49m\u001b[39m__getattribute__\u001b[39;49m(\u001b[39mself\u001b[39;49m, name)\n",
      "File \u001b[0;32m~/anaconda3/envs/qtm151/lib/python3.11/site-packages/pandas/core/accessor.py:224\u001b[0m, in \u001b[0;36mCachedAccessor.__get__\u001b[0;34m(self, obj, cls)\u001b[0m\n\u001b[1;32m    221\u001b[0m \u001b[39mif\u001b[39;00m obj \u001b[39mis\u001b[39;00m \u001b[39mNone\u001b[39;00m:\n\u001b[1;32m    222\u001b[0m     \u001b[39m# we're accessing the attribute of the class, i.e., Dataset.geo\u001b[39;00m\n\u001b[1;32m    223\u001b[0m     \u001b[39mreturn\u001b[39;00m \u001b[39mself\u001b[39m\u001b[39m.\u001b[39m_accessor\n\u001b[0;32m--> 224\u001b[0m accessor_obj \u001b[39m=\u001b[39m \u001b[39mself\u001b[39;49m\u001b[39m.\u001b[39;49m_accessor(obj)\n\u001b[1;32m    225\u001b[0m \u001b[39m# Replace the property with the accessor object. Inspired by:\u001b[39;00m\n\u001b[1;32m    226\u001b[0m \u001b[39m# https://www.pydanny.com/cached-property.html\u001b[39;00m\n\u001b[1;32m    227\u001b[0m \u001b[39m# We need to use object.__setattr__ because we overwrite __setattr__ on\u001b[39;00m\n\u001b[1;32m    228\u001b[0m \u001b[39m# NDFrame\u001b[39;00m\n\u001b[1;32m    229\u001b[0m \u001b[39mobject\u001b[39m\u001b[39m.\u001b[39m\u001b[39m__setattr__\u001b[39m(obj, \u001b[39mself\u001b[39m\u001b[39m.\u001b[39m_name, accessor_obj)\n",
      "File \u001b[0;32m~/anaconda3/envs/qtm151/lib/python3.11/site-packages/pandas/core/strings/accessor.py:181\u001b[0m, in \u001b[0;36mStringMethods.__init__\u001b[0;34m(self, data)\u001b[0m\n\u001b[1;32m    178\u001b[0m \u001b[39mdef\u001b[39;00m \u001b[39m__init__\u001b[39m(\u001b[39mself\u001b[39m, data) \u001b[39m-\u001b[39m\u001b[39m>\u001b[39m \u001b[39mNone\u001b[39;00m:\n\u001b[1;32m    179\u001b[0m     \u001b[39mfrom\u001b[39;00m \u001b[39mpandas\u001b[39;00m\u001b[39m.\u001b[39;00m\u001b[39mcore\u001b[39;00m\u001b[39m.\u001b[39;00m\u001b[39marrays\u001b[39;00m\u001b[39m.\u001b[39;00m\u001b[39mstring_\u001b[39;00m \u001b[39mimport\u001b[39;00m StringDtype\n\u001b[0;32m--> 181\u001b[0m     \u001b[39mself\u001b[39m\u001b[39m.\u001b[39m_inferred_dtype \u001b[39m=\u001b[39m \u001b[39mself\u001b[39;49m\u001b[39m.\u001b[39;49m_validate(data)\n\u001b[1;32m    182\u001b[0m     \u001b[39mself\u001b[39m\u001b[39m.\u001b[39m_is_categorical \u001b[39m=\u001b[39m is_categorical_dtype(data\u001b[39m.\u001b[39mdtype)\n\u001b[1;32m    183\u001b[0m     \u001b[39mself\u001b[39m\u001b[39m.\u001b[39m_is_string \u001b[39m=\u001b[39m \u001b[39misinstance\u001b[39m(data\u001b[39m.\u001b[39mdtype, StringDtype)\n",
      "File \u001b[0;32m~/anaconda3/envs/qtm151/lib/python3.11/site-packages/pandas/core/strings/accessor.py:235\u001b[0m, in \u001b[0;36mStringMethods._validate\u001b[0;34m(data)\u001b[0m\n\u001b[1;32m    232\u001b[0m inferred_dtype \u001b[39m=\u001b[39m lib\u001b[39m.\u001b[39minfer_dtype(values, skipna\u001b[39m=\u001b[39m\u001b[39mTrue\u001b[39;00m)\n\u001b[1;32m    234\u001b[0m \u001b[39mif\u001b[39;00m inferred_dtype \u001b[39mnot\u001b[39;00m \u001b[39min\u001b[39;00m allowed_types:\n\u001b[0;32m--> 235\u001b[0m     \u001b[39mraise\u001b[39;00m \u001b[39mAttributeError\u001b[39;00m(\u001b[39m\"\u001b[39m\u001b[39mCan only use .str accessor with string values!\u001b[39m\u001b[39m\"\u001b[39m)\n\u001b[1;32m    236\u001b[0m \u001b[39mreturn\u001b[39;00m inferred_dtype\n",
      "\u001b[0;31mAttributeError\u001b[0m: Can only use .str accessor with string values!"
     ]
    }
   ],
   "source": [
    "# Write your own code here\n",
    "# Create and store a list of non-numeric values\n",
    "subset = sprint_results.query(\"position.str.isnumeric() == False\")\n",
    "list_unique = pd.unique(subset[\"position\"])\n",
    "print(list_unique)"
   ]
  },
  {
   "cell_type": "code",
   "execution_count": 6,
   "metadata": {},
   "outputs": [
    {
     "name": "stdout",
     "output_type": "stream",
     "text": [
      "0       1.0\n",
      "1       2.0\n",
      "2       3.0\n",
      "3       4.0\n",
      "4       5.0\n",
      "       ... \n",
      "115    16.0\n",
      "116    17.0\n",
      "117    18.0\n",
      "118    19.0\n",
      "119     NaN\n",
      "Name: position, Length: 120, dtype: float64\n"
     ]
    },
    {
     "data": {
      "text/plain": [
       "0       1.0\n",
       "1       2.0\n",
       "2       3.0\n",
       "3       4.0\n",
       "4       5.0\n",
       "       ... \n",
       "115    16.0\n",
       "116    17.0\n",
       "117    18.0\n",
       "118    19.0\n",
       "119     NaN\n",
       "Name: position, Length: 120, dtype: float64"
      ]
     },
     "execution_count": 6,
     "metadata": {},
     "output_type": "execute_result"
    }
   ],
   "source": [
    "# Create a list for replacement\n",
    "old = ['\\\\N']\n",
    "new = np.nan\n",
    "sprint_results[\"position\"] = (sprint_results[\"position\"].replace(old, new))\n",
    "sprint_results['position'] = pd.to_numeric(sprint_results['position'])\n",
    "print(sprint_results['position'])\n",
    "sprint_results['position'] = pd.to_numeric(sprint_results['position'])\n",
    "sprint_results['position']"
   ]
  },
  {
   "attachments": {},
   "cell_type": "markdown",
   "metadata": {},
   "source": [
    "<font size = \"5\">\n",
    "\n",
    "(d) Groupby + Aggregate\n",
    "\n",
    "<font size = \"3\">\n",
    "\n",
    "- Compute the mean and standard deviation of \"position\", <br>\n",
    "grouping by \"constructorId\". Store the new dataset <br>\n",
    "as \"df_aggConstrcId_pos\"\n",
    "\n",
    "- Sort the aggregate dataset in ascending <br>\n",
    "order of mean position using \".sort_values()\" <br>\n",
    "(i.e., to find the constructor with drivers having the best mean positions)\n",
    "\n",
    "- Display\n",
    "\n",
    "- Print which constructorId has the lowest mean position.\n",
    "\n",
    "HINT: See Lecture 13 <br>\n"
   ]
  },
  {
   "cell_type": "code",
   "execution_count": 7,
   "metadata": {},
   "outputs": [
    {
     "name": "stdout",
     "output_type": "stream",
     "text": [
      "                 pos_avg    pos_sd\n",
      "constructorId                     \n",
      "1               7.250000  3.137022\n",
      "3              16.181818  2.857208\n",
      "6               4.750000  2.734460\n",
      "9               3.363636  2.419617\n",
      "51             13.000000  3.549648\n",
      "117            12.750000  3.165869\n",
      "131             4.833333  4.174236\n",
      "210            13.833333  5.236816\n",
      "213            13.909091  2.981763\n",
      "214            11.636364  4.006812\n",
      "                 pos_avg    pos_sd\n",
      "constructorId                     \n",
      "9               3.363636  2.419617\n",
      "6               4.750000  2.734460\n",
      "131             4.833333  4.174236\n",
      "1               7.250000  3.137022\n",
      "214            11.636364  4.006812\n",
      "117            12.750000  3.165869\n",
      "51             13.000000  3.549648\n",
      "210            13.833333  5.236816\n",
      "213            13.909091  2.981763\n",
      "3              16.181818  2.857208\n",
      "Constructor 9 had the lowest mean position\n"
     ]
    }
   ],
   "source": [
    "# Write your own code\n",
    "df_aggConstrcld_pos = sprint_results.groupby(\"constructorId\").agg(pos_avg = ('position', 'mean'), \n",
    "                              pos_sd = ('position', 'std'))\n",
    "print(df_aggConstrcld_pos)\n",
    "print(df_aggConstrcld_pos.sort_values(by='pos_avg', ascending=True))\n",
    "print(\"Constructor \" + str(df_aggConstrcld_pos.sort_values(by='pos_avg', ascending=True).index[0]) + \" had the lowest mean position\")\n"
   ]
  },
  {
   "attachments": {},
   "cell_type": "markdown",
   "metadata": {},
   "source": [
    "<font size = \"5\" >\n",
    "\n",
    "(d) Query + Groupby + Aggregate\n",
    "\n",
    "<font size = \"3\">\n",
    "\n",
    "- Use \".query()\" to subset observations with <br>\n",
    "'race_id >= 100'\n",
    "\n",
    "- Compute the mean and standard deviation of \"position\", <br>\n",
    "grouping by \"constructorId\". Store the new dataset <br>\n",
    "as \"df_subAggConstr_pos\"\n",
    "\n",
    "- Display\n",
    "\n",
    "Hint: See Lectures 9 and 11 (to refresh \".query()\") and <br>\n",
    "Lecture 13 for how to combine it with \".groupby()\""
   ]
  },
  {
   "cell_type": "code",
   "execution_count": 8,
   "metadata": {},
   "outputs": [
    {
     "data": {
      "text/html": [
       "<div>\n",
       "<style scoped>\n",
       "    .dataframe tbody tr th:only-of-type {\n",
       "        vertical-align: middle;\n",
       "    }\n",
       "\n",
       "    .dataframe tbody tr th {\n",
       "        vertical-align: top;\n",
       "    }\n",
       "\n",
       "    .dataframe thead th {\n",
       "        text-align: right;\n",
       "    }\n",
       "</style>\n",
       "<table border=\"1\" class=\"dataframe\">\n",
       "  <thead>\n",
       "    <tr style=\"text-align: right;\">\n",
       "      <th></th>\n",
       "      <th>mean_points</th>\n",
       "      <th>sd_points</th>\n",
       "    </tr>\n",
       "    <tr>\n",
       "      <th>constructorId</th>\n",
       "      <th></th>\n",
       "      <th></th>\n",
       "    </tr>\n",
       "  </thead>\n",
       "  <tbody>\n",
       "    <tr>\n",
       "      <th>1</th>\n",
       "      <td>7.250000</td>\n",
       "      <td>3.137022</td>\n",
       "    </tr>\n",
       "    <tr>\n",
       "      <th>3</th>\n",
       "      <td>16.181818</td>\n",
       "      <td>2.857208</td>\n",
       "    </tr>\n",
       "    <tr>\n",
       "      <th>6</th>\n",
       "      <td>4.750000</td>\n",
       "      <td>2.734460</td>\n",
       "    </tr>\n",
       "    <tr>\n",
       "      <th>9</th>\n",
       "      <td>3.363636</td>\n",
       "      <td>2.419617</td>\n",
       "    </tr>\n",
       "    <tr>\n",
       "      <th>51</th>\n",
       "      <td>13.000000</td>\n",
       "      <td>3.549648</td>\n",
       "    </tr>\n",
       "    <tr>\n",
       "      <th>117</th>\n",
       "      <td>12.750000</td>\n",
       "      <td>3.165869</td>\n",
       "    </tr>\n",
       "    <tr>\n",
       "      <th>131</th>\n",
       "      <td>4.833333</td>\n",
       "      <td>4.174236</td>\n",
       "    </tr>\n",
       "    <tr>\n",
       "      <th>210</th>\n",
       "      <td>13.833333</td>\n",
       "      <td>5.236816</td>\n",
       "    </tr>\n",
       "    <tr>\n",
       "      <th>213</th>\n",
       "      <td>13.909091</td>\n",
       "      <td>2.981763</td>\n",
       "    </tr>\n",
       "    <tr>\n",
       "      <th>214</th>\n",
       "      <td>11.636364</td>\n",
       "      <td>4.006812</td>\n",
       "    </tr>\n",
       "  </tbody>\n",
       "</table>\n",
       "</div>"
      ],
      "text/plain": [
       "               mean_points  sd_points\n",
       "constructorId                        \n",
       "1                 7.250000   3.137022\n",
       "3                16.181818   2.857208\n",
       "6                 4.750000   2.734460\n",
       "9                 3.363636   2.419617\n",
       "51               13.000000   3.549648\n",
       "117              12.750000   3.165869\n",
       "131               4.833333   4.174236\n",
       "210              13.833333   5.236816\n",
       "213              13.909091   2.981763\n",
       "214              11.636364   4.006812"
      ]
     },
     "execution_count": 8,
     "metadata": {},
     "output_type": "execute_result"
    }
   ],
   "source": [
    "# Write your own code\n",
    "df_subAggConstr_pos = (sprint_results.query(\"raceId >= 100\")\n",
    "                       .groupby([\"constructorId\"])\n",
    "                        .agg(mean_points = ('position','mean'),\n",
    "                             sd_points =   ('position','std')))\n",
    "df_subAggConstr_pos"
   ]
  }
 ],
 "metadata": {
  "kernelspec": {
   "display_name": "base",
   "language": "python",
   "name": "python3"
  },
  "language_info": {
   "codemirror_mode": {
    "name": "ipython",
    "version": 3
   },
   "file_extension": ".py",
   "mimetype": "text/x-python",
   "name": "python",
   "nbconvert_exporter": "python",
   "pygments_lexer": "ipython3",
   "version": "3.11.4"
  },
  "orig_nbformat": 4,
  "vscode": {
   "interpreter": {
    "hash": "45fc1f684f6f416f40889115beff3ddf69879b64cf4bfee48cb72a61e9d15d1a"
   }
  }
 },
 "nbformat": 4,
 "nbformat_minor": 2
}
