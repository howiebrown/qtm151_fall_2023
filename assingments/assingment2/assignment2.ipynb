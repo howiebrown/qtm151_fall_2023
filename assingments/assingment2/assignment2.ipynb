{
 "cells": [
  {
   "attachments": {},
   "cell_type": "markdown",
   "metadata": {},
   "source": [
    "# Assignment 2"
   ]
  },
  {
   "attachments": {},
   "cell_type": "markdown",
   "metadata": {},
   "source": [
    "## Submit as an HTML file"
   ]
  },
  {
   "attachments": {},
   "cell_type": "markdown",
   "metadata": {},
   "source": [
    "<font size = \"5\">\n",
    "Print your ID below (do not input your name)"
   ]
  },
  {
   "cell_type": "code",
   "execution_count": 1,
   "metadata": {},
   "outputs": [
    {
     "name": "stdout",
     "output_type": "stream",
     "text": [
      "2585210\n"
     ]
    }
   ],
   "source": [
    "print('2585210')"
   ]
  },
  {
   "attachments": {},
   "cell_type": "markdown",
   "metadata": {},
   "source": [
    "<font size = \"5\">\n",
    "\n",
    "(a) Import the pandas and matplotlib packages"
   ]
  },
  {
   "cell_type": "code",
   "execution_count": 2,
   "metadata": {},
   "outputs": [],
   "source": [
    "import matplotlib.pyplot as plt\n",
    "import pandas as pd"
   ]
  },
  {
   "attachments": {},
   "cell_type": "markdown",
   "metadata": {},
   "source": [
    "<font size = \"5\">\n",
    "\n",
    "(b) Open the dataset \"athletes.csv\" in the \"data\" folder\n",
    "\n",
    "<font size = \"3\">\n",
    "\n",
    "- Read it as a pandas object called \"athlete\"\n",
    "- Note: This is a dataset of all Olympic Athletes from 1896 to 2022"
   ]
  },
  {
   "cell_type": "code",
   "execution_count": 5,
   "metadata": {},
   "outputs": [],
   "source": [
    "athlete = pd.read_csv('data/athletes.csv')\n"
   ]
  },
  {
   "attachments": {},
   "cell_type": "markdown",
   "metadata": {},
   "source": [
    "<font size = \"5\">\n",
    "\n",
    "(c) View the dataset and create a list of variable names\n",
    "\n"
   ]
  },
  {
   "cell_type": "code",
   "execution_count": 16,
   "metadata": {},
   "outputs": [
    {
     "name": "stdout",
     "output_type": "stream",
     "text": [
      "            ID                      Name  Sex   Age  Height  Weight  \\\n",
      "0            1                 A Dijiang    M  24.0   180.0    80.0   \n",
      "1            2                  A Lamusi    M  23.0   170.0    60.0   \n",
      "2            3       Gunnar Nielsen Aaby    M  24.0   191.0    85.0   \n",
      "3            4      Edgar Lindenau Aabye    M  34.0     NaN     NaN   \n",
      "4            5  Christine Jacoba Aaftink    F  21.0   185.0    82.0   \n",
      "...        ...                       ...  ...   ...     ...     ...   \n",
      "271113  135570                  Piotr ya    M  27.0   176.0    59.0   \n",
      "271114  135571        Tomasz Ireneusz ya    M  30.0   185.0    96.0   \n",
      "271115  135572        Tomasz Ireneusz ya    M  34.0   185.0    96.0   \n",
      "271116  135573    Pusarla Venkata Sindhu    F  21.0   179.0    65.0   \n",
      "271117  135574    Pusarla Venkata Sindhu  NaN  25.0   179.0    65.0   \n",
      "\n",
      "                  Team  NOC        Games  Year  Season            City  \\\n",
      "0                China  CHN  1992 Summer  1992  Summer       Barcelona   \n",
      "1                China  CHN  2012 Summer  2012  Summer          London   \n",
      "2              Denmark  DEN  1920 Summer  1920  Summer       Antwerpen   \n",
      "3       Denmark/Sweden  DEN  1900 Summer  1900  Summer           Paris   \n",
      "4          Netherlands  NED  1988 Winter  1988  Winter         Calgary   \n",
      "...                ...  ...          ...   ...     ...             ...   \n",
      "271113          Poland  POL  2014 Winter  2014  Winter           Sochi   \n",
      "271114          Poland  POL  1998 Winter  1998  Winter          Nagano   \n",
      "271115          Poland  POL  2002 Winter  2002  Winter  Salt Lake City   \n",
      "271116           India  IND  2016 Summer  2016  Summer  Rio de Janeiro   \n",
      "271117           India  IND  2020 Summer  2020  Summer           Tokyo   \n",
      "\n",
      "                Sport                               Event   Medal  \n",
      "0          Basketball         Basketball Men's Basketball     NaN  \n",
      "1                Judo        Judo Men's Extra-Lightweight     NaN  \n",
      "2            Football             Football Men's Football     NaN  \n",
      "3          Tug-Of-War         Tug-Of-War Men's Tug-Of-War    Gold  \n",
      "4       Speed Skating    Speed Skating Women's 500 metres     NaN  \n",
      "...               ...                                 ...     ...  \n",
      "271113    Ski Jumping  Ski Jumping Men's Large Hill, Team     NaN  \n",
      "271114      Bobsleigh                Bobsleigh Men's Four     NaN  \n",
      "271115      Bobsleigh                Bobsleigh Men's Four     NaN  \n",
      "271116      Badminton                   Badminton Women's  Silver  \n",
      "271117      Badminton                   Badminton Women's  Bronze  \n",
      "\n",
      "[271118 rows x 15 columns]\n"
     ]
    }
   ],
   "source": [
    "# Create a list, e.g. \"variable_names = [ \"name1\", \"name2\", \"name3\" ]\"\n",
    "# Manually type the names of the first 4 variables (not including ID)\n",
    "# If you're viewing the dataset from the VS-Code \"Variables\" tool, \n",
    "#you'll see an extra column \"index\". Do not include this in your list.\n",
    "print(athlete)\n",
    "variable_names=[\"Name\",\"Sex\",\"Age\",\"Height\"]"
   ]
  },
  {
   "attachments": {},
   "cell_type": "markdown",
   "metadata": {},
   "source": [
    "<font size = \"5\">\n",
    "\n",
    "(d) Compute descriptive statistics for the third variable in the dataset\n",
    "\n",
    "<font size = \"3\">\n",
    "\n",
    "- One way to do this is:\n",
    "\n",
    "athlete[\"Age\"].describe()\n",
    "\n",
    "- Do something similar, but with the list you created above.\n",
    "- Substitute \"Age\" with a command that automatically extracts the third element in the list"
   ]
  },
  {
   "cell_type": "code",
   "execution_count": 14,
   "metadata": {},
   "outputs": [
    {
     "data": {
      "text/plain": [
       "count    261644.000000\n",
       "mean         25.556879\n",
       "std           6.393543\n",
       "min          10.000000\n",
       "25%          21.000000\n",
       "50%          24.000000\n",
       "75%          28.000000\n",
       "max          97.000000\n",
       "Name: Age, dtype: float64"
      ]
     },
     "execution_count": 14,
     "metadata": {},
     "output_type": "execute_result"
    }
   ],
   "source": [
    "# Remember that the numbering in Python starts at zero\n",
    "# For example:\n",
    "# list_colors = [\"red\",\"green\",\"yellow\"]\n",
    "# list_colors[1] will output \"green\"\n",
    "\n",
    "athlete[variable_names[2]].describe()"
   ]
  },
  {
   "attachments": {},
   "cell_type": "markdown",
   "metadata": {},
   "source": [
    "<font size = \"5\">\n",
    "\n",
    "(e) Show a scatter plot that shows \"Height\" in the x-axis and \"Weight\" in the y-axis.\n",
    "\n",
    "<font size = \"3\">\n",
    "\n",
    "- Label the axes for full points\n",
    "- Note: This question does not depend on (d)\n",
    "- Give a one sentence interpretation of the plot"
   ]
  },
  {
   "cell_type": "code",
   "execution_count": 20,
   "metadata": {},
   "outputs": [
    {
     "data": {
      "image/png": "[encoded data removed]",
      "text/plain": [
       "<Figure size 640x480 with 1 Axes>"
      ]
     },
     "metadata": {},
     "output_type": "display_data"
    }
   ],
   "source": [
    "plt.scatter(x=athlete['Height'],y=athlete['Weight'])\n",
    "plt.xlabel(\"Height\")\n",
    "plt.ylabel('Weight')\n",
    "plt.title('Height vs. Weight')\n",
    "plt.show()"
   ]
  }
 ],
 "metadata": {
  "kernelspec": {
   "display_name": "Python 3",
   "language": "python",
   "name": "python3"
  },
  "language_info": {
   "codemirror_mode": {
    "name": "ipython",
    "version": 3
   },
   "file_extension": ".py",
   "mimetype": "text/x-python",
   "name": "python",
   "nbconvert_exporter": "python",
   "pygments_lexer": "ipython3",
   "version": "3.11.4"
  },
  "orig_nbformat": 4,
  "vscode": {
   "interpreter": {
    "hash": "aee8b7b246df8f9039afb4144a1f6fd8d2ca17a180786b69acc140d282b71a49"
   }
  }
 },
 "nbformat": 4,
 "nbformat_minor": 2
}
